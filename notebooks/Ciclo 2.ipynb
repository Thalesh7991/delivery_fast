{
 "cells": [
  {
   "cell_type": "markdown",
   "metadata": {},
   "source": [
    "# Imports"
   ]
  },
  {
   "cell_type": "code",
   "execution_count": 1,
   "metadata": {},
   "outputs": [],
   "source": [
    "import pandas as pd\n",
    "import sys \n",
    "import os\n",
    "import math\n",
    "import numpy as np \n",
    "import joblib\n",
    "import seaborn as sns\n",
    "\n",
    "from matplotlib            import pyplot as plt\n",
    "from IPython.display       import Image\n",
    "from IPython.core.display  import HTML\n",
    "pd.set_option('display.float_format', lambda x: '%.4f' % x)\n",
    "\n",
    "\n",
    "from sklearn.model_selection import train_test_split\n",
    "from sklearn.preprocessing import LabelEncoder, MinMaxScaler\n",
    "\n",
    "from sklearn.pipeline import Pipeline\n",
    "\n",
    "from sklearn.linear_model import LinearRegression, Ridge, Lasso\n",
    "from sklearn.neighbors import KNeighborsRegressor\n",
    "from sklearn.tree import DecisionTreeRegressor\n",
    "from sklearn.ensemble import GradientBoostingRegressor\n",
    "\n",
    "\n",
    "\n",
    "\n",
    "sys.path.insert(0, '../src/')\n",
    "from utils.utils import load_config_file\n",
    "from data.data_load import DataLoad\n",
    "from data.data_preprocess import DataPreprocess\n",
    "from data.data_transformation import DataTransformation\n",
    "\n",
    "\n",
    "import warnings\n",
    "\n",
    "# Ignorar todos os FutureWarnings\n",
    "warnings.simplefilter(action='ignore', category=FutureWarning)"
   ]
  },
  {
   "cell_type": "markdown",
   "metadata": {},
   "source": [
    "# Helper Functions"
   ]
  },
  {
   "cell_type": "code",
   "execution_count": 2,
   "metadata": {},
   "outputs": [],
   "source": [
    "from sklearn.metrics import mean_squared_error, mean_absolute_error, r2_score\n",
    "\n",
    "def regression_metrics(y_true, y_pred):\n",
    "    \"\"\"\n",
    "    Calcula várias métricas de regressão e retorna um DataFrame.\n",
    "\n",
    "    Parâmetros:\n",
    "    - y_true: Valores reais.\n",
    "    - y_pred: Valores preditos.\n",
    "\n",
    "    Retorna:\n",
    "    - DataFrame contendo métricas de regressão.\n",
    "    \"\"\"\n",
    "\n",
    "    absolute_errors = np.abs(y_true - y_pred)\n",
    "    percentage_errors = absolute_errors / np.maximum(np.abs(y_true), 1e-8)\n",
    "\n",
    "    metrics_dict = {\n",
    "        'mse': mean_squared_error(y_true, y_pred),\n",
    "        'rmse': np.sqrt(mean_squared_error(y_true, y_pred)),\n",
    "        'mae': mean_absolute_error(y_true, y_pred),\n",
    "        'r2': r2_score(y_true, y_pred),\n",
    "        'mape': np.mean(percentage_errors) * 100\n",
    "        # Adicione mais métricas conforme necessário\n",
    "    }\n",
    "\n",
    "    metrics_df = pd.DataFrame(list(metrics_dict.items()), columns=['Métrica', 'Valor'])\n",
    "    return metrics_df\n",
    "\n",
    "\n",
    "from sklearn.base import BaseEstimator, TransformerMixin\n",
    "from sklearn.preprocessing import LabelEncoder\n",
    "import pandas as pd\n",
    "\n",
    "class CustomLabelEncoder(BaseEstimator, TransformerMixin):\n",
    "    def __init__(self, column):\n",
    "        self.column = column\n",
    "        self.le = LabelEncoder()\n",
    "        self.default_label = 'desconhecido'\n",
    "        self.categories_ = None\n",
    "\n",
    "    def fit(self, X, y=None):\n",
    "        all_categories = set(X[self.column])\n",
    "        all_categories.add(self.default_label)  # Adicione 'desconhecido' às categorias conhecidas\n",
    "        self.le.fit(list(all_categories))\n",
    "        self.categories_ = all_categories\n",
    "        return self\n",
    "\n",
    "    def transform(self, X):\n",
    "        X_encoded = X.copy()\n",
    "        # Usar um valor padrão para categorias desconhecidas\n",
    "        X_encoded[self.column] = X_encoded[self.column].apply(lambda x: x if x in self.categories_ else self.default_label)\n",
    "        X_encoded[self.column] = self.le.transform(X_encoded[self.column])\n",
    "        return X_encoded\n",
    "    \n",
    "\n",
    "def jupyter_settings():\n",
    "    %matplotlib inline\n",
    "    %pylab inline\n",
    "    \n",
    "    plt.style.use( 'bmh' )\n",
    "    plt.rcParams['figure.figsize'] = [25, 12]\n",
    "    plt.rcParams['font.size'] = 24\n",
    "    \n",
    "    display( HTML( '<style>.container { width:100% !important; }</style>') )\n",
    "    pd.options.display.max_columns = None\n",
    "    pd.options.display.max_rows = None\n",
    "    pd.set_option( 'display.expand_frame_repr', False )\n",
    "    \n",
    "    sns.set()\n",
    "\n",
    "# jupyter_settings()"
   ]
  },
  {
   "cell_type": "markdown",
   "metadata": {},
   "source": [
    "# Data Load"
   ]
  },
  {
   "cell_type": "code",
   "execution_count": 3,
   "metadata": {},
   "outputs": [
    {
     "name": "stdout",
     "output_type": "stream",
     "text": [
      "c:\\Users\\thale\\Documents\\Projetos_DS\\projeto_aluno_mlflow\\delivery_fast\\notebooks\\../src\\data\n",
      "2023-12-27 15:45:48 [info     ] Iniciando o carregamento\n",
      "c:\\Users\\thale\\Documents\\Projetos_DS\\projeto_aluno_mlflow\\delivery_fast\\src\\data\n",
      "c:\\Users\\thale\\Documents\\Projetos_DS\\projeto_aluno_mlflow\\delivery_fast\\data\\raw\\dados.csv\n"
     ]
    }
   ],
   "source": [
    "dl = DataLoad()\n",
    "df = dl.load_data('dados_train')"
   ]
  },
  {
   "cell_type": "markdown",
   "metadata": {},
   "source": [
    "# 1.0 Descrição dos Dados"
   ]
  },
  {
   "cell_type": "code",
   "execution_count": 4,
   "metadata": {},
   "outputs": [],
   "source": [
    "df1 = df.copy()"
   ]
  },
  {
   "cell_type": "markdown",
   "metadata": {},
   "source": [
    "## 1.1 Dimensão dos Dados"
   ]
  },
  {
   "cell_type": "code",
   "execution_count": 5,
   "metadata": {},
   "outputs": [
    {
     "data": {
      "text/plain": [
       "(197428, 16)"
      ]
     },
     "execution_count": 5,
     "metadata": {},
     "output_type": "execute_result"
    }
   ],
   "source": [
    "df1.shape"
   ]
  },
  {
   "cell_type": "markdown",
   "metadata": {},
   "source": [
    "## 1.2 Tipo dos Dados"
   ]
  },
  {
   "cell_type": "code",
   "execution_count": 6,
   "metadata": {},
   "outputs": [
    {
     "data": {
      "text/plain": [
       "market_id                                       float64\n",
       "created_at                                       object\n",
       "actual_delivery_time                             object\n",
       "store_id                                          int64\n",
       "store_primary_category                           object\n",
       "order_protocol                                  float64\n",
       "total_items                                       int64\n",
       "subtotal                                          int64\n",
       "num_distinct_items                                int64\n",
       "min_item_price                                    int64\n",
       "max_item_price                                    int64\n",
       "total_onshift_dashers                           float64\n",
       "total_busy_dashers                              float64\n",
       "total_outstanding_orders                        float64\n",
       "estimated_order_place_duration                    int64\n",
       "estimated_store_to_consumer_driving_duration    float64\n",
       "dtype: object"
      ]
     },
     "execution_count": 6,
     "metadata": {},
     "output_type": "execute_result"
    }
   ],
   "source": [
    "df1.dtypes"
   ]
  },
  {
   "cell_type": "markdown",
   "metadata": {},
   "source": [
    "## 1.3 Check Na"
   ]
  },
  {
   "cell_type": "code",
   "execution_count": 7,
   "metadata": {},
   "outputs": [
    {
     "data": {
      "text/plain": [
       "market_id                                         987\n",
       "created_at                                          0\n",
       "actual_delivery_time                                7\n",
       "store_id                                            0\n",
       "store_primary_category                           4760\n",
       "order_protocol                                    995\n",
       "total_items                                         0\n",
       "subtotal                                            0\n",
       "num_distinct_items                                  0\n",
       "min_item_price                                      0\n",
       "max_item_price                                      0\n",
       "total_onshift_dashers                           16262\n",
       "total_busy_dashers                              16262\n",
       "total_outstanding_orders                        16262\n",
       "estimated_order_place_duration                      0\n",
       "estimated_store_to_consumer_driving_duration      526\n",
       "dtype: int64"
      ]
     },
     "execution_count": 7,
     "metadata": {},
     "output_type": "execute_result"
    }
   ],
   "source": [
    "df1.isna().sum()"
   ]
  },
  {
   "cell_type": "markdown",
   "metadata": {},
   "source": [
    "# 2.0 Fill Na"
   ]
  },
  {
   "cell_type": "code",
   "execution_count": 8,
   "metadata": {},
   "outputs": [],
   "source": [
    "df2 = df1.copy()"
   ]
  },
  {
   "cell_type": "code",
   "execution_count": 9,
   "metadata": {},
   "outputs": [],
   "source": [
    "df2 = df2.dropna()"
   ]
  },
  {
   "cell_type": "code",
   "execution_count": 10,
   "metadata": {},
   "outputs": [],
   "source": [
    "# # total_onshift_dashers\n",
    "# df2['total_onshift_dashers'] = df2['total_onshift_dashers'].apply(lambda x: 0 if math.isnan(x) else x)\n",
    "\n",
    "# # total_busy_dashers\n",
    "# df2['total_busy_dashers'] = df2['total_busy_dashers'].apply(lambda x: 0 if math.isnan(x) else x)\n",
    "\n",
    "# # total_outstanding_orders\n",
    "# df2['total_outstanding_orders'] = df2['total_outstanding_orders'].apply(lambda x: 0 if math.isnan(x) else x)"
   ]
  },
  {
   "cell_type": "code",
   "execution_count": 11,
   "metadata": {},
   "outputs": [],
   "source": [
    "# df2[['store_id','store_primary_category']].groupby('store_id').count().reset_index().sort_values('store_primary_category', ascending=False)"
   ]
  },
  {
   "cell_type": "code",
   "execution_count": 12,
   "metadata": {},
   "outputs": [],
   "source": [
    "# df2.loc[df2['store_id'] == 6865]['store_primary_category'].value_counts()"
   ]
  },
  {
   "cell_type": "markdown",
   "metadata": {},
   "source": [
    "# 3.0 Change Data Type"
   ]
  },
  {
   "cell_type": "code",
   "execution_count": 13,
   "metadata": {},
   "outputs": [],
   "source": [
    "df3 = df2.copy()"
   ]
  },
  {
   "cell_type": "code",
   "execution_count": 14,
   "metadata": {},
   "outputs": [
    {
     "data": {
      "text/plain": [
       "market_id                                       float64\n",
       "created_at                                       object\n",
       "actual_delivery_time                             object\n",
       "store_id                                          int64\n",
       "store_primary_category                           object\n",
       "order_protocol                                  float64\n",
       "total_items                                       int64\n",
       "subtotal                                          int64\n",
       "num_distinct_items                                int64\n",
       "min_item_price                                    int64\n",
       "max_item_price                                    int64\n",
       "total_onshift_dashers                           float64\n",
       "total_busy_dashers                              float64\n",
       "total_outstanding_orders                        float64\n",
       "estimated_order_place_duration                    int64\n",
       "estimated_store_to_consumer_driving_duration    float64\n",
       "dtype: object"
      ]
     },
     "execution_count": 14,
     "metadata": {},
     "output_type": "execute_result"
    }
   ],
   "source": [
    "df3.dtypes"
   ]
  },
  {
   "cell_type": "code",
   "execution_count": 15,
   "metadata": {},
   "outputs": [],
   "source": [
    "df3['created_at'] = pd.to_datetime(df3['created_at'])\n",
    "\n",
    "df3['actual_delivery_time'] = pd.to_datetime(df3['actual_delivery_time'])"
   ]
  },
  {
   "cell_type": "code",
   "execution_count": 16,
   "metadata": {},
   "outputs": [
    {
     "data": {
      "text/html": [
       "<div>\n",
       "<style scoped>\n",
       "    .dataframe tbody tr th:only-of-type {\n",
       "        vertical-align: middle;\n",
       "    }\n",
       "\n",
       "    .dataframe tbody tr th {\n",
       "        vertical-align: top;\n",
       "    }\n",
       "\n",
       "    .dataframe thead th {\n",
       "        text-align: right;\n",
       "    }\n",
       "</style>\n",
       "<table border=\"1\" class=\"dataframe\">\n",
       "  <thead>\n",
       "    <tr style=\"text-align: right;\">\n",
       "      <th></th>\n",
       "      <th>market_id</th>\n",
       "      <th>created_at</th>\n",
       "      <th>actual_delivery_time</th>\n",
       "      <th>store_id</th>\n",
       "      <th>store_primary_category</th>\n",
       "      <th>order_protocol</th>\n",
       "      <th>total_items</th>\n",
       "      <th>subtotal</th>\n",
       "      <th>num_distinct_items</th>\n",
       "      <th>min_item_price</th>\n",
       "      <th>max_item_price</th>\n",
       "      <th>total_onshift_dashers</th>\n",
       "      <th>total_busy_dashers</th>\n",
       "      <th>total_outstanding_orders</th>\n",
       "      <th>estimated_order_place_duration</th>\n",
       "      <th>estimated_store_to_consumer_driving_duration</th>\n",
       "    </tr>\n",
       "  </thead>\n",
       "  <tbody>\n",
       "    <tr>\n",
       "      <th>0</th>\n",
       "      <td>1.0000</td>\n",
       "      <td>2015-02-06 22:24:17</td>\n",
       "      <td>2015-02-06 23:27:16</td>\n",
       "      <td>1845</td>\n",
       "      <td>american</td>\n",
       "      <td>1.0000</td>\n",
       "      <td>4</td>\n",
       "      <td>3441</td>\n",
       "      <td>4</td>\n",
       "      <td>557</td>\n",
       "      <td>1239</td>\n",
       "      <td>33.0000</td>\n",
       "      <td>14.0000</td>\n",
       "      <td>21.0000</td>\n",
       "      <td>446</td>\n",
       "      <td>861.0000</td>\n",
       "    </tr>\n",
       "    <tr>\n",
       "      <th>1</th>\n",
       "      <td>2.0000</td>\n",
       "      <td>2015-02-10 21:49:25</td>\n",
       "      <td>2015-02-10 22:56:29</td>\n",
       "      <td>5477</td>\n",
       "      <td>mexican</td>\n",
       "      <td>2.0000</td>\n",
       "      <td>1</td>\n",
       "      <td>1900</td>\n",
       "      <td>1</td>\n",
       "      <td>1400</td>\n",
       "      <td>1400</td>\n",
       "      <td>1.0000</td>\n",
       "      <td>2.0000</td>\n",
       "      <td>2.0000</td>\n",
       "      <td>446</td>\n",
       "      <td>690.0000</td>\n",
       "    </tr>\n",
       "    <tr>\n",
       "      <th>8</th>\n",
       "      <td>2.0000</td>\n",
       "      <td>2015-02-16 00:11:35</td>\n",
       "      <td>2015-02-16 00:38:01</td>\n",
       "      <td>5477</td>\n",
       "      <td>indian</td>\n",
       "      <td>3.0000</td>\n",
       "      <td>4</td>\n",
       "      <td>4771</td>\n",
       "      <td>3</td>\n",
       "      <td>820</td>\n",
       "      <td>1604</td>\n",
       "      <td>8.0000</td>\n",
       "      <td>6.0000</td>\n",
       "      <td>18.0000</td>\n",
       "      <td>446</td>\n",
       "      <td>289.0000</td>\n",
       "    </tr>\n",
       "    <tr>\n",
       "      <th>14</th>\n",
       "      <td>1.0000</td>\n",
       "      <td>2015-02-12 03:36:46</td>\n",
       "      <td>2015-02-12 04:14:39</td>\n",
       "      <td>2841</td>\n",
       "      <td>italian</td>\n",
       "      <td>1.0000</td>\n",
       "      <td>1</td>\n",
       "      <td>1525</td>\n",
       "      <td>1</td>\n",
       "      <td>1525</td>\n",
       "      <td>1525</td>\n",
       "      <td>5.0000</td>\n",
       "      <td>6.0000</td>\n",
       "      <td>8.0000</td>\n",
       "      <td>446</td>\n",
       "      <td>795.0000</td>\n",
       "    </tr>\n",
       "    <tr>\n",
       "      <th>15</th>\n",
       "      <td>1.0000</td>\n",
       "      <td>2015-01-27 02:12:36</td>\n",
       "      <td>2015-01-27 03:02:24</td>\n",
       "      <td>2841</td>\n",
       "      <td>italian</td>\n",
       "      <td>1.0000</td>\n",
       "      <td>2</td>\n",
       "      <td>3620</td>\n",
       "      <td>2</td>\n",
       "      <td>1425</td>\n",
       "      <td>2195</td>\n",
       "      <td>5.0000</td>\n",
       "      <td>5.0000</td>\n",
       "      <td>7.0000</td>\n",
       "      <td>446</td>\n",
       "      <td>205.0000</td>\n",
       "    </tr>\n",
       "  </tbody>\n",
       "</table>\n",
       "</div>"
      ],
      "text/plain": [
       "    market_id          created_at actual_delivery_time  store_id  \\\n",
       "0      1.0000 2015-02-06 22:24:17  2015-02-06 23:27:16      1845   \n",
       "1      2.0000 2015-02-10 21:49:25  2015-02-10 22:56:29      5477   \n",
       "8      2.0000 2015-02-16 00:11:35  2015-02-16 00:38:01      5477   \n",
       "14     1.0000 2015-02-12 03:36:46  2015-02-12 04:14:39      2841   \n",
       "15     1.0000 2015-01-27 02:12:36  2015-01-27 03:02:24      2841   \n",
       "\n",
       "   store_primary_category  order_protocol  total_items  subtotal  \\\n",
       "0                american          1.0000            4      3441   \n",
       "1                 mexican          2.0000            1      1900   \n",
       "8                  indian          3.0000            4      4771   \n",
       "14                italian          1.0000            1      1525   \n",
       "15                italian          1.0000            2      3620   \n",
       "\n",
       "    num_distinct_items  min_item_price  max_item_price  total_onshift_dashers  \\\n",
       "0                    4             557            1239                33.0000   \n",
       "1                    1            1400            1400                 1.0000   \n",
       "8                    3             820            1604                 8.0000   \n",
       "14                   1            1525            1525                 5.0000   \n",
       "15                   2            1425            2195                 5.0000   \n",
       "\n",
       "    total_busy_dashers  total_outstanding_orders  \\\n",
       "0              14.0000                   21.0000   \n",
       "1               2.0000                    2.0000   \n",
       "8               6.0000                   18.0000   \n",
       "14              6.0000                    8.0000   \n",
       "15              5.0000                    7.0000   \n",
       "\n",
       "    estimated_order_place_duration  \\\n",
       "0                              446   \n",
       "1                              446   \n",
       "8                              446   \n",
       "14                             446   \n",
       "15                             446   \n",
       "\n",
       "    estimated_store_to_consumer_driving_duration  \n",
       "0                                       861.0000  \n",
       "1                                       690.0000  \n",
       "8                                       289.0000  \n",
       "14                                      795.0000  \n",
       "15                                      205.0000  "
      ]
     },
     "execution_count": 16,
     "metadata": {},
     "output_type": "execute_result"
    }
   ],
   "source": [
    "df3.head()"
   ]
  },
  {
   "cell_type": "markdown",
   "metadata": {},
   "source": [
    "# 4.0 Feature Engineering"
   ]
  },
  {
   "cell_type": "code",
   "execution_count": 17,
   "metadata": {},
   "outputs": [],
   "source": [
    "df4 = df3.copy()"
   ]
  },
  {
   "cell_type": "code",
   "execution_count": 18,
   "metadata": {},
   "outputs": [],
   "source": [
    "# df4.loc[df4['total_onshift_dashers'] < df4['total_busy_dashers']]\n",
    "\n",
    "# dia do mes do pedido\n",
    "df4['dia_mes'] = df4['created_at'].dt.day\n",
    "\n",
    "# dia do ano do pedido\n",
    "df4['dia_ano'] = df4['created_at'].dt.day_of_year\n",
    "\n",
    "# mes do pedido\n",
    "df4['mes'] = df4['created_at'].dt.month\n",
    "\n",
    "# ano do pedido\n",
    "df4['ano'] = df4['created_at'].dt.year\n",
    "\n",
    "# bimestre\n",
    "df4['bimestre'] = df4['created_at'].dt.month // 2 + 1\n",
    "\n",
    "# trimestre\n",
    "df4['trimestre'] = df4['created_at'].dt.quarter\n",
    "\n",
    "# semestre\n",
    "df4['semestre'] = df4['created_at'].dt.quarter.apply(lambda x: (x - 1) // 2 + 1)\n",
    "\n",
    "# manha/tarde/noite/madrugada\n",
    "df4['periodo'] = pd.cut(df4['created_at'].dt.hour,\n",
    "                        bins=[0, 6, 12, 18, 24],\n",
    "                        labels=['madrugada', 'manhã', 'tarde', 'noite'],\n",
    "                        include_lowest=True)\n",
    "\n",
    "# Quantidade de pedidos feitos até o momento do pedido atual no mesmo market_id\n",
    "df_test = df4.sort_values(by=['market_id', 'created_at'])\n",
    "\n",
    "# Criando a coluna 'quantidade_pedidos_ate_o_momento'\n",
    "df4['quantidade_pedidos_ate_o_momento'] = df_test.groupby(['market_id', df_test['created_at'].dt.date]).cumcount() + 1\n",
    "\n",
    "# Tempo médio de entrega dos pedidos feitos até o momento do pedido atual\n"
   ]
  },
  {
   "cell_type": "code",
   "execution_count": 19,
   "metadata": {},
   "outputs": [],
   "source": [
    "df4['target'] = (df4['actual_delivery_time'] - df4['created_at']).dt.total_seconds()"
   ]
  },
  {
   "cell_type": "markdown",
   "metadata": {},
   "source": [
    "# 5.0 EDA"
   ]
  },
  {
   "cell_type": "code",
   "execution_count": 20,
   "metadata": {},
   "outputs": [],
   "source": [
    "df5 = df4.copy()"
   ]
  },
  {
   "cell_type": "markdown",
   "metadata": {},
   "source": [
    "## 5.1 Análise Univariada"
   ]
  },
  {
   "cell_type": "code",
   "execution_count": 21,
   "metadata": {},
   "outputs": [],
   "source": [
    "num_attributes = df5.select_dtypes( include=['int64', 'float64'] )\n",
    "cat_attributes = df5.select_dtypes( exclude=['int64', 'float64', 'datetime64[ns]'] )"
   ]
  },
  {
   "cell_type": "code",
   "execution_count": 22,
   "metadata": {},
   "outputs": [
    {
     "data": {
      "text/html": [
       "<div>\n",
       "<style scoped>\n",
       "    .dataframe tbody tr th:only-of-type {\n",
       "        vertical-align: middle;\n",
       "    }\n",
       "\n",
       "    .dataframe tbody tr th {\n",
       "        vertical-align: top;\n",
       "    }\n",
       "\n",
       "    .dataframe thead th {\n",
       "        text-align: right;\n",
       "    }\n",
       "</style>\n",
       "<table border=\"1\" class=\"dataframe\">\n",
       "  <thead>\n",
       "    <tr style=\"text-align: right;\">\n",
       "      <th></th>\n",
       "      <th>attributes</th>\n",
       "      <th>min</th>\n",
       "      <th>max</th>\n",
       "      <th>range</th>\n",
       "      <th>mean</th>\n",
       "      <th>median</th>\n",
       "      <th>std</th>\n",
       "      <th>skew</th>\n",
       "      <th>kurtosis</th>\n",
       "    </tr>\n",
       "  </thead>\n",
       "  <tbody>\n",
       "    <tr>\n",
       "      <th>0</th>\n",
       "      <td>market_id</td>\n",
       "      <td>1.0000</td>\n",
       "      <td>6.0000</td>\n",
       "      <td>5.0000</td>\n",
       "      <td>2.7437</td>\n",
       "      <td>2.0000</td>\n",
       "      <td>1.3310</td>\n",
       "      <td>0.2256</td>\n",
       "      <td>-1.1985</td>\n",
       "    </tr>\n",
       "    <tr>\n",
       "      <th>1</th>\n",
       "      <td>store_id</td>\n",
       "      <td>1.0000</td>\n",
       "      <td>6987.0000</td>\n",
       "      <td>6986.0000</td>\n",
       "      <td>3556.2996</td>\n",
       "      <td>3620.0000</td>\n",
       "      <td>2055.9532</td>\n",
       "      <td>-0.0232</td>\n",
       "      <td>-1.2447</td>\n",
       "    </tr>\n",
       "    <tr>\n",
       "      <th>2</th>\n",
       "      <td>order_protocol</td>\n",
       "      <td>1.0000</td>\n",
       "      <td>7.0000</td>\n",
       "      <td>6.0000</td>\n",
       "      <td>2.9118</td>\n",
       "      <td>3.0000</td>\n",
       "      <td>1.5131</td>\n",
       "      <td>0.1094</td>\n",
       "      <td>-1.3290</td>\n",
       "    </tr>\n",
       "    <tr>\n",
       "      <th>3</th>\n",
       "      <td>total_items</td>\n",
       "      <td>1.0000</td>\n",
       "      <td>411.0000</td>\n",
       "      <td>410.0000</td>\n",
       "      <td>3.2050</td>\n",
       "      <td>3.0000</td>\n",
       "      <td>2.6740</td>\n",
       "      <td>23.2860</td>\n",
       "      <td>3102.9680</td>\n",
       "    </tr>\n",
       "    <tr>\n",
       "      <th>4</th>\n",
       "      <td>subtotal</td>\n",
       "      <td>0.0000</td>\n",
       "      <td>26800.0000</td>\n",
       "      <td>26800.0000</td>\n",
       "      <td>2697.1111</td>\n",
       "      <td>2224.0000</td>\n",
       "      <td>1828.5497</td>\n",
       "      <td>1.9184</td>\n",
       "      <td>5.5952</td>\n",
       "    </tr>\n",
       "    <tr>\n",
       "      <th>5</th>\n",
       "      <td>num_distinct_items</td>\n",
       "      <td>1.0000</td>\n",
       "      <td>20.0000</td>\n",
       "      <td>19.0000</td>\n",
       "      <td>2.6751</td>\n",
       "      <td>2.0000</td>\n",
       "      <td>1.6257</td>\n",
       "      <td>1.5743</td>\n",
       "      <td>4.1767</td>\n",
       "    </tr>\n",
       "    <tr>\n",
       "      <th>6</th>\n",
       "      <td>min_item_price</td>\n",
       "      <td>-86.0000</td>\n",
       "      <td>14700.0000</td>\n",
       "      <td>14786.0000</td>\n",
       "      <td>684.9654</td>\n",
       "      <td>595.0000</td>\n",
       "      <td>519.8814</td>\n",
       "      <td>2.3388</td>\n",
       "      <td>14.7339</td>\n",
       "    </tr>\n",
       "    <tr>\n",
       "      <th>7</th>\n",
       "      <td>max_item_price</td>\n",
       "      <td>0.0000</td>\n",
       "      <td>14700.0000</td>\n",
       "      <td>14700.0000</td>\n",
       "      <td>1160.1586</td>\n",
       "      <td>1095.0000</td>\n",
       "      <td>560.8270</td>\n",
       "      <td>2.2043</td>\n",
       "      <td>12.9622</td>\n",
       "    </tr>\n",
       "    <tr>\n",
       "      <th>8</th>\n",
       "      <td>total_onshift_dashers</td>\n",
       "      <td>-4.0000</td>\n",
       "      <td>171.0000</td>\n",
       "      <td>175.0000</td>\n",
       "      <td>44.9187</td>\n",
       "      <td>37.0000</td>\n",
       "      <td>34.5446</td>\n",
       "      <td>0.8569</td>\n",
       "      <td>-0.0435</td>\n",
       "    </tr>\n",
       "    <tr>\n",
       "      <th>9</th>\n",
       "      <td>total_busy_dashers</td>\n",
       "      <td>-5.0000</td>\n",
       "      <td>154.0000</td>\n",
       "      <td>159.0000</td>\n",
       "      <td>41.8614</td>\n",
       "      <td>35.0000</td>\n",
       "      <td>32.1684</td>\n",
       "      <td>0.7786</td>\n",
       "      <td>-0.1980</td>\n",
       "    </tr>\n",
       "    <tr>\n",
       "      <th>10</th>\n",
       "      <td>total_outstanding_orders</td>\n",
       "      <td>-6.0000</td>\n",
       "      <td>285.0000</td>\n",
       "      <td>291.0000</td>\n",
       "      <td>58.2301</td>\n",
       "      <td>41.0000</td>\n",
       "      <td>52.7309</td>\n",
       "      <td>1.1912</td>\n",
       "      <td>0.8466</td>\n",
       "    </tr>\n",
       "    <tr>\n",
       "      <th>11</th>\n",
       "      <td>estimated_order_place_duration</td>\n",
       "      <td>0.0000</td>\n",
       "      <td>2715.0000</td>\n",
       "      <td>2715.0000</td>\n",
       "      <td>307.8181</td>\n",
       "      <td>251.0000</td>\n",
       "      <td>89.7963</td>\n",
       "      <td>1.1714</td>\n",
       "      <td>4.3479</td>\n",
       "    </tr>\n",
       "    <tr>\n",
       "      <th>12</th>\n",
       "      <td>estimated_store_to_consumer_driving_duration</td>\n",
       "      <td>0.0000</td>\n",
       "      <td>2088.0000</td>\n",
       "      <td>2088.0000</td>\n",
       "      <td>546.0772</td>\n",
       "      <td>544.0000</td>\n",
       "      <td>218.7172</td>\n",
       "      <td>0.1400</td>\n",
       "      <td>-0.4144</td>\n",
       "    </tr>\n",
       "    <tr>\n",
       "      <th>13</th>\n",
       "      <td>semestre</td>\n",
       "      <td>1.0000</td>\n",
       "      <td>1.0000</td>\n",
       "      <td>0.0000</td>\n",
       "      <td>1.0000</td>\n",
       "      <td>1.0000</td>\n",
       "      <td>0.0000</td>\n",
       "      <td>0.0000</td>\n",
       "      <td>0.0000</td>\n",
       "    </tr>\n",
       "    <tr>\n",
       "      <th>14</th>\n",
       "      <td>quantidade_pedidos_ate_o_momento</td>\n",
       "      <td>1.0000</td>\n",
       "      <td>2517.0000</td>\n",
       "      <td>2516.0000</td>\n",
       "      <td>732.7885</td>\n",
       "      <td>625.0000</td>\n",
       "      <td>528.2509</td>\n",
       "      <td>0.7151</td>\n",
       "      <td>-0.1650</td>\n",
       "    </tr>\n",
       "    <tr>\n",
       "      <th>15</th>\n",
       "      <td>target</td>\n",
       "      <td>101.0000</td>\n",
       "      <td>373879.0000</td>\n",
       "      <td>373778.0000</td>\n",
       "      <td>2866.4227</td>\n",
       "      <td>2662.0000</td>\n",
       "      <td>1660.7363</td>\n",
       "      <td>109.4477</td>\n",
       "      <td>23023.4636</td>\n",
       "    </tr>\n",
       "  </tbody>\n",
       "</table>\n",
       "</div>"
      ],
      "text/plain": [
       "                                      attributes      min         max  \\\n",
       "0                                      market_id   1.0000      6.0000   \n",
       "1                                       store_id   1.0000   6987.0000   \n",
       "2                                 order_protocol   1.0000      7.0000   \n",
       "3                                    total_items   1.0000    411.0000   \n",
       "4                                       subtotal   0.0000  26800.0000   \n",
       "5                             num_distinct_items   1.0000     20.0000   \n",
       "6                                 min_item_price -86.0000  14700.0000   \n",
       "7                                 max_item_price   0.0000  14700.0000   \n",
       "8                          total_onshift_dashers  -4.0000    171.0000   \n",
       "9                             total_busy_dashers  -5.0000    154.0000   \n",
       "10                      total_outstanding_orders  -6.0000    285.0000   \n",
       "11                estimated_order_place_duration   0.0000   2715.0000   \n",
       "12  estimated_store_to_consumer_driving_duration   0.0000   2088.0000   \n",
       "13                                      semestre   1.0000      1.0000   \n",
       "14              quantidade_pedidos_ate_o_momento   1.0000   2517.0000   \n",
       "15                                        target 101.0000 373879.0000   \n",
       "\n",
       "         range      mean    median       std     skew   kurtosis  \n",
       "0       5.0000    2.7437    2.0000    1.3310   0.2256    -1.1985  \n",
       "1    6986.0000 3556.2996 3620.0000 2055.9532  -0.0232    -1.2447  \n",
       "2       6.0000    2.9118    3.0000    1.5131   0.1094    -1.3290  \n",
       "3     410.0000    3.2050    3.0000    2.6740  23.2860  3102.9680  \n",
       "4   26800.0000 2697.1111 2224.0000 1828.5497   1.9184     5.5952  \n",
       "5      19.0000    2.6751    2.0000    1.6257   1.5743     4.1767  \n",
       "6   14786.0000  684.9654  595.0000  519.8814   2.3388    14.7339  \n",
       "7   14700.0000 1160.1586 1095.0000  560.8270   2.2043    12.9622  \n",
       "8     175.0000   44.9187   37.0000   34.5446   0.8569    -0.0435  \n",
       "9     159.0000   41.8614   35.0000   32.1684   0.7786    -0.1980  \n",
       "10    291.0000   58.2301   41.0000   52.7309   1.1912     0.8466  \n",
       "11   2715.0000  307.8181  251.0000   89.7963   1.1714     4.3479  \n",
       "12   2088.0000  546.0772  544.0000  218.7172   0.1400    -0.4144  \n",
       "13      0.0000    1.0000    1.0000    0.0000   0.0000     0.0000  \n",
       "14   2516.0000  732.7885  625.0000  528.2509   0.7151    -0.1650  \n",
       "15 373778.0000 2866.4227 2662.0000 1660.7363 109.4477 23023.4636  "
      ]
     },
     "execution_count": 22,
     "metadata": {},
     "output_type": "execute_result"
    }
   ],
   "source": [
    "# Central Tendency - mean, meadina \n",
    "ct1 = pd.DataFrame( num_attributes.apply( np.mean ) ).T\n",
    "ct2 = pd.DataFrame( num_attributes.apply( np.median ) ).T\n",
    "\n",
    "# dispersion - std, min, max, range, skew, kurtosis\n",
    "d1 = pd.DataFrame( num_attributes.apply( np.std ) ).T \n",
    "d2 = pd.DataFrame( num_attributes.apply( min ) ).T \n",
    "d3 = pd.DataFrame( num_attributes.apply( max ) ).T \n",
    "d4 = pd.DataFrame( num_attributes.apply( lambda x: x.max() - x.min() ) ).T \n",
    "d5 = pd.DataFrame( num_attributes.apply( lambda x: x.skew() ) ).T \n",
    "d6 = pd.DataFrame( num_attributes.apply( lambda x: x.kurtosis() ) ).T \n",
    "\n",
    "# concatenar\n",
    "m = pd.concat( [d2, d3, d4, ct1, ct2, d1, d5, d6] ).T.reset_index()\n",
    "m.columns = ['attributes', 'min', 'max', 'range', 'mean', 'median', 'std', 'skew', 'kurtosis']\n",
    "m"
   ]
  },
  {
   "cell_type": "markdown",
   "metadata": {},
   "source": [
    "### 5.1.2 Variável Resposta"
   ]
  },
  {
   "cell_type": "code",
   "execution_count": 23,
   "metadata": {},
   "outputs": [
    {
     "data": {
      "text/plain": [
       "<seaborn.axisgrid.FacetGrid at 0x1d37a42ac50>"
      ]
     },
     "execution_count": 23,
     "metadata": {},
     "output_type": "execute_result"
    },
    {
     "data": {
      "image/png": "[encoded data removed]",
      "text/plain": [
       "<Figure size 500x500 with 1 Axes>"
      ]
     },
     "metadata": {},
     "output_type": "display_data"
    }
   ],
   "source": [
    "sns.displot( df5['target'], kde=False  )"
   ]
  },
  {
   "cell_type": "markdown",
   "metadata": {},
   "source": [
    "## 5.2 Análise Bivariada"
   ]
  },
  {
   "cell_type": "code",
   "execution_count": 24,
   "metadata": {},
   "outputs": [],
   "source": [
    "# plt.figure( figsize=(25, 12) )\n",
    "# sns.pairplot( num_attributes.drop(columns = ['market_id','store_id', 'order_protocol']))"
   ]
  },
  {
   "cell_type": "markdown",
   "metadata": {},
   "source": [
    "#### Pedidos com mais itens demoram mais??"
   ]
  },
  {
   "cell_type": "code",
   "execution_count": 25,
   "metadata": {},
   "outputs": [
    {
     "data": {
      "text/plain": [
       "<Axes: xlabel='total_items', ylabel='target'>"
      ]
     },
     "execution_count": 25,
     "metadata": {},
     "output_type": "execute_result"
    },
    {
     "data": {
      "image/png": "[encoded data removed]",
      "text/plain": [
       "<Figure size 640x480 with 1 Axes>"
      ]
     },
     "metadata": {},
     "output_type": "display_data"
    }
   ],
   "source": [
    "sns.scatterplot(x='total_items', y='target', data=num_attributes)"
   ]
  },
  {
   "cell_type": "markdown",
   "metadata": {},
   "source": [
    "#### Pedidos mais caros demoram mais?"
   ]
  },
  {
   "cell_type": "code",
   "execution_count": 26,
   "metadata": {},
   "outputs": [
    {
     "data": {
      "text/plain": [
       "<Axes: xlabel='subtotal', ylabel='target'>"
      ]
     },
     "execution_count": 26,
     "metadata": {},
     "output_type": "execute_result"
    },
    {
     "data": {
      "image/png": "[encoded data removed]",
      "text/plain": [
       "<Figure size 640x480 with 1 Axes>"
      ]
     },
     "metadata": {},
     "output_type": "display_data"
    }
   ],
   "source": [
    "sns.scatterplot(x='subtotal', y='target', data=num_attributes)"
   ]
  },
  {
   "cell_type": "markdown",
   "metadata": {},
   "source": [
    "#### A quantidade de Itens Distintos no pedido interfere no tempo de entrega?"
   ]
  },
  {
   "cell_type": "code",
   "execution_count": 27,
   "metadata": {},
   "outputs": [
    {
     "data": {
      "text/plain": [
       "<Axes: xlabel='num_distinct_items', ylabel='target'>"
      ]
     },
     "execution_count": 27,
     "metadata": {},
     "output_type": "execute_result"
    },
    {
     "data": {
      "image/png": "[encoded data removed]",
      "text/plain": [
       "<Figure size 640x480 with 1 Axes>"
      ]
     },
     "metadata": {},
     "output_type": "display_data"
    }
   ],
   "source": [
    "sns.scatterplot(x='num_distinct_items', y='target', data=num_attributes)"
   ]
  },
  {
   "cell_type": "code",
   "execution_count": 28,
   "metadata": {},
   "outputs": [
    {
     "data": {
      "text/plain": [
       "<Axes: xlabel='quantidade_pedidos_ate_o_momento', ylabel='target'>"
      ]
     },
     "execution_count": 28,
     "metadata": {},
     "output_type": "execute_result"
    },
    {
     "data": {
      "image/png": "[encoded data removed]",
      "text/plain": [
       "<Figure size 640x480 with 1 Axes>"
      ]
     },
     "metadata": {},
     "output_type": "display_data"
    }
   ],
   "source": [
    "sns.scatterplot(x='quantidade_pedidos_ate_o_momento', y='target', data=num_attributes)"
   ]
  },
  {
   "cell_type": "code",
   "execution_count": 29,
   "metadata": {},
   "outputs": [
    {
     "data": {
      "text/plain": [
       "<Axes: xlabel='order_protocol', ylabel='target'>"
      ]
     },
     "execution_count": 29,
     "metadata": {},
     "output_type": "execute_result"
    },
    {
     "data": {
      "image/png": "[encoded data removed]",
      "text/plain": [
       "<Figure size 640x480 with 1 Axes>"
      ]
     },
     "metadata": {},
     "output_type": "display_data"
    }
   ],
   "source": [
    "sns.boxplot(x='order_protocol', y='target', data=num_attributes.loc[num_attributes['target'] < 50000])"
   ]
  },
  {
   "cell_type": "code",
   "execution_count": 30,
   "metadata": {},
   "outputs": [
    {
     "data": {
      "text/plain": [
       "<Axes: xlabel='market_id', ylabel='target'>"
      ]
     },
     "execution_count": 30,
     "metadata": {},
     "output_type": "execute_result"
    },
    {
     "data": {
      "image/png": "[encoded data removed]",
      "text/plain": [
       "<Figure size 640x480 with 1 Axes>"
      ]
     },
     "metadata": {},
     "output_type": "display_data"
    }
   ],
   "source": [
    "sns.boxplot(x='market_id', y='target', data=num_attributes.loc[num_attributes['target'] < 50000])"
   ]
  },
  {
   "cell_type": "code",
   "execution_count": null,
   "metadata": {},
   "outputs": [],
   "source": []
  },
  {
   "cell_type": "markdown",
   "metadata": {},
   "source": [
    "# 6.0 Limpeza de Dados"
   ]
  },
  {
   "cell_type": "code",
   "execution_count": 31,
   "metadata": {},
   "outputs": [],
   "source": [
    "df6 = df5.copy()"
   ]
  },
  {
   "cell_type": "code",
   "execution_count": 32,
   "metadata": {},
   "outputs": [],
   "source": [
    "df6 = df6.loc[df6['min_item_price'] > 0]\n",
    "\n",
    "df6 = df6.loc[df6['total_onshift_dashers'] >= 0]\n",
    "\n",
    "df6 = df6.loc[df6['total_busy_dashers'] >= 0]\n",
    "\n",
    "df6 = df6.loc[df6['total_outstanding_orders'] >= 0]\n",
    "\n",
    "df6 = df6.loc[df6['target'] < 20000]"
   ]
  },
  {
   "cell_type": "code",
   "execution_count": 33,
   "metadata": {},
   "outputs": [
    {
     "data": {
      "text/plain": [
       "<seaborn.axisgrid.FacetGrid at 0x1d30d9f7b10>"
      ]
     },
     "execution_count": 33,
     "metadata": {},
     "output_type": "execute_result"
    },
    {
     "data": {
      "image/png": "[encoded data removed]",
      "text/plain": [
       "<Figure size 500x500 with 1 Axes>"
      ]
     },
     "metadata": {},
     "output_type": "display_data"
    }
   ],
   "source": [
    "sns.displot( df6['target'], kde=False  )"
   ]
  },
  {
   "cell_type": "markdown",
   "metadata": {},
   "source": [
    "# 7.0 Data Preparation"
   ]
  },
  {
   "cell_type": "code",
   "execution_count": 39,
   "metadata": {},
   "outputs": [],
   "source": [
    "df7 = df6.copy()\n",
    "df7 = df7.drop(columns=['created_at', 'actual_delivery_time'])\n",
    "#df7 = df7[load_config_file().get('columns_to_use')]"
   ]
  },
  {
   "cell_type": "code",
   "execution_count": 40,
   "metadata": {},
   "outputs": [],
   "source": [
    "dt = DataTransformation(df7)"
   ]
  },
  {
   "cell_type": "code",
   "execution_count": 41,
   "metadata": {},
   "outputs": [],
   "source": [
    "X_train, X_valid, y_train, y_valid = dt.train_test_split()"
   ]
  },
  {
   "cell_type": "markdown",
   "metadata": {},
   "source": [
    "# 6.0 Data Preprocess"
   ]
  },
  {
   "cell_type": "markdown",
   "metadata": {},
   "source": [
    "## 6.1 Encoding"
   ]
  },
  {
   "cell_type": "code",
   "execution_count": 103,
   "metadata": {},
   "outputs": [],
   "source": [
    "# le = LabelEncoder()\n",
    "\n",
    "# all_categories = set(X_train['store_primary_category']).union(set(X_valid['store_primary_category']))\n",
    "# le.fit(list(all_categories))\n",
    "\n",
    "# # Dados de Treino\n",
    "# X_train['store_primary_category'] = le.transform(X_train['store_primary_category'])\n",
    "\n"
   ]
  },
  {
   "cell_type": "code",
   "execution_count": 104,
   "metadata": {},
   "outputs": [],
   "source": [
    "# default_label = 'desconhecido'\n",
    "# X_valid['store_primary_category'] = X_valid['store_primary_category'].replace(to_replace={cat: default_label for cat in all_categories.difference(X_valid['store_primary_category'])})\n",
    "\n",
    "# # Aplicar o LabelEncoder para transformar as categorias\n",
    "# X_valid['store_primary_category'] = le.transform(X_valid['store_primary_category'])"
   ]
  },
  {
   "cell_type": "code",
   "execution_count": 105,
   "metadata": {},
   "outputs": [],
   "source": [
    "# # Criar pipeline\n",
    "# pipeline = Pipeline([\n",
    "#     ('label_encoder', CustomLabelEncoder(column='store_primary_category')),\n",
    "# ])"
   ]
  },
  {
   "cell_type": "code",
   "execution_count": null,
   "metadata": {},
   "outputs": [],
   "source": []
  },
  {
   "cell_type": "code",
   "execution_count": 51,
   "metadata": {},
   "outputs": [],
   "source": [
    "# Criar pipeline\n",
    "pipeline = Pipeline([\n",
    "    ('label_encoder', CustomLabelEncoder(column='store_primary_category')),\n",
    "    ('label_encoder2', CustomLabelEncoder(column='periodo')),\n",
    "    ('scaler', MinMaxScaler())\n",
    "])"
   ]
  },
  {
   "cell_type": "code",
   "execution_count": null,
   "metadata": {},
   "outputs": [],
   "source": []
  },
  {
   "cell_type": "markdown",
   "metadata": {},
   "source": [
    "# 7.0 Machine Learning"
   ]
  },
  {
   "cell_type": "code",
   "execution_count": 54,
   "metadata": {},
   "outputs": [
    {
     "data": {
      "text/plain": [
       "<Experiment: artifact_location='mlflow-artifacts:/1', creation_time=1703597813329, experiment_id='1', last_update_time=1703597813329, lifecycle_stage='active', name='predict_delivery_time', tags={}>"
      ]
     },
     "execution_count": 54,
     "metadata": {},
     "output_type": "execute_result"
    }
   ],
   "source": [
    "import mlflow\n",
    "from mlflow.tracking import MlflowClient\n",
    "\n",
    "mlflow.set_tracking_uri('http://127.0.0.1:5000')\n",
    "mlflow.set_experiment('predict_delivery_time')"
   ]
  },
  {
   "cell_type": "code",
   "execution_count": 55,
   "metadata": {},
   "outputs": [
    {
     "name": "stdout",
     "output_type": "stream",
     "text": [
      "2023-12-27 15:59:27 [info     ] Iniciando o processamento\n"
     ]
    },
    {
     "name": "stdout",
     "output_type": "stream",
     "text": [
      "2023-12-27 15:59:28 [info     ] Iniciando a Transformação\n",
      "2023-12-27 15:59:28 [info     ] Iniciando a Transformação\n",
      "LinearRegression\n",
      "Ridge\n"
     ]
    },
    {
     "name": "stderr",
     "output_type": "stream",
     "text": [
      "c:\\Users\\thale\\AppData\\Local\\Programs\\Python\\Python311\\Lib\\site-packages\\_distutils_hack\\__init__.py:18: UserWarning: Distutils was imported before Setuptools, but importing Setuptools also replaces the `distutils` module in `sys.modules`. This may lead to undesirable behaviors or errors. To avoid these issues, avoid using distutils directly, ensure that setuptools is installed in the traditional way (e.g. not an editable install), and/or make sure that setuptools is always imported before distutils.\n",
      "  warnings.warn(\n",
      "c:\\Users\\thale\\AppData\\Local\\Programs\\Python\\Python311\\Lib\\site-packages\\_distutils_hack\\__init__.py:33: UserWarning: Setuptools is replacing distutils.\n",
      "  warnings.warn(\"Setuptools is replacing distutils.\")\n"
     ]
    },
    {
     "name": "stdout",
     "output_type": "stream",
     "text": [
      "Lasso\n"
     ]
    },
    {
     "name": "stderr",
     "output_type": "stream",
     "text": [
      "c:\\Users\\thale\\AppData\\Local\\Programs\\Python\\Python311\\Lib\\site-packages\\_distutils_hack\\__init__.py:18: UserWarning: Distutils was imported before Setuptools, but importing Setuptools also replaces the `distutils` module in `sys.modules`. This may lead to undesirable behaviors or errors. To avoid these issues, avoid using distutils directly, ensure that setuptools is installed in the traditional way (e.g. not an editable install), and/or make sure that setuptools is always imported before distutils.\n",
      "  warnings.warn(\n",
      "c:\\Users\\thale\\AppData\\Local\\Programs\\Python\\Python311\\Lib\\site-packages\\_distutils_hack\\__init__.py:33: UserWarning: Setuptools is replacing distutils.\n",
      "  warnings.warn(\"Setuptools is replacing distutils.\")\n"
     ]
    },
    {
     "name": "stdout",
     "output_type": "stream",
     "text": [
      "KNeighborsRegressor\n"
     ]
    },
    {
     "name": "stderr",
     "output_type": "stream",
     "text": [
      "c:\\Users\\thale\\AppData\\Local\\Programs\\Python\\Python311\\Lib\\site-packages\\_distutils_hack\\__init__.py:18: UserWarning: Distutils was imported before Setuptools, but importing Setuptools also replaces the `distutils` module in `sys.modules`. This may lead to undesirable behaviors or errors. To avoid these issues, avoid using distutils directly, ensure that setuptools is installed in the traditional way (e.g. not an editable install), and/or make sure that setuptools is always imported before distutils.\n",
      "  warnings.warn(\n",
      "c:\\Users\\thale\\AppData\\Local\\Programs\\Python\\Python311\\Lib\\site-packages\\_distutils_hack\\__init__.py:33: UserWarning: Setuptools is replacing distutils.\n",
      "  warnings.warn(\"Setuptools is replacing distutils.\")\n"
     ]
    },
    {
     "name": "stdout",
     "output_type": "stream",
     "text": [
      "DecisionTreeRegressor\n"
     ]
    },
    {
     "name": "stderr",
     "output_type": "stream",
     "text": [
      "c:\\Users\\thale\\AppData\\Local\\Programs\\Python\\Python311\\Lib\\site-packages\\_distutils_hack\\__init__.py:18: UserWarning: Distutils was imported before Setuptools, but importing Setuptools also replaces the `distutils` module in `sys.modules`. This may lead to undesirable behaviors or errors. To avoid these issues, avoid using distutils directly, ensure that setuptools is installed in the traditional way (e.g. not an editable install), and/or make sure that setuptools is always imported before distutils.\n",
      "  warnings.warn(\n",
      "c:\\Users\\thale\\AppData\\Local\\Programs\\Python\\Python311\\Lib\\site-packages\\_distutils_hack\\__init__.py:33: UserWarning: Setuptools is replacing distutils.\n",
      "  warnings.warn(\"Setuptools is replacing distutils.\")\n"
     ]
    },
    {
     "name": "stdout",
     "output_type": "stream",
     "text": [
      "GradientBoostingRegressor\n"
     ]
    },
    {
     "name": "stderr",
     "output_type": "stream",
     "text": [
      "c:\\Users\\thale\\AppData\\Local\\Programs\\Python\\Python311\\Lib\\site-packages\\_distutils_hack\\__init__.py:18: UserWarning: Distutils was imported before Setuptools, but importing Setuptools also replaces the `distutils` module in `sys.modules`. This may lead to undesirable behaviors or errors. To avoid these issues, avoid using distutils directly, ensure that setuptools is installed in the traditional way (e.g. not an editable install), and/or make sure that setuptools is always imported before distutils.\n",
      "  warnings.warn(\n",
      "c:\\Users\\thale\\AppData\\Local\\Programs\\Python\\Python311\\Lib\\site-packages\\_distutils_hack\\__init__.py:33: UserWarning: Setuptools is replacing distutils.\n",
      "  warnings.warn(\"Setuptools is replacing distutils.\")\n"
     ]
    }
   ],
   "source": [
    "models = [LinearRegression(), Ridge(), Lasso(), KNeighborsRegressor(), DecisionTreeRegressor(), GradientBoostingRegressor()]\n",
    "\n",
    "\n",
    "with mlflow.start_run(run_name='Ciclo2'):\n",
    "\n",
    "    preprocessador = DataPreprocess(pipeline)\n",
    "    preprocessador.train(X_train)\n",
    "\n",
    "    X_train_processed = pd.DataFrame(preprocessador.transform(X_train))\n",
    "    X_valid_processed = pd.DataFrame(preprocessador.transform(X_valid))\n",
    "\n",
    "    X_train_processed.columns = X_train.columns\n",
    "    X_valid_processed.columns = X_valid.columns\n",
    "\n",
    "    joblib.dump(preprocessador, '../models/preprocess.joblib')\n",
    "\n",
    "    # logar um artefato (preprocessador)\n",
    "    mlflow.log_artifact('../models/preprocess.joblib')\n",
    "\n",
    "    # logar os parametros do preprocessador\n",
    "    mlflow.log_params(params={'encoder': pipeline['label_encoder'],\n",
    "                              'encoder2': pipeline['label_encoder2'],\n",
    "                            'scaler': pipeline['scaler']})\n",
    "\n",
    "    for model in models:\n",
    "        model_name = model.__class__.__name__\n",
    "        print(model_name)\n",
    "        with mlflow.start_run(nested=True, run_name = model_name):\n",
    "            mlflow.set_tag('model_name', model_name)\n",
    "\n",
    "            mlflow.log_param('model_name', model_name)\n",
    "            md = model\n",
    "\n",
    "            # model train\n",
    "            md.fit(X_train_processed, y_train)\n",
    "\n",
    "            # model predict\n",
    "            y_pred = md.predict(X_valid_processed)\n",
    "\n",
    "            params = md.get_params()\n",
    "\n",
    "            # log nos parametros do modelo\n",
    "            for i in params:\n",
    "                mlflow.log_param(i, params[i])\n",
    "            \n",
    "            # Calculando as métricas de performance \n",
    "            df_result_lr = regression_metrics(y_valid, y_pred)\n",
    "\n",
    "            # log nas métricas que vem de df_result_lr\n",
    "            for index, row in df_result_lr.iterrows():\n",
    "                mlflow.log_metric(row['Métrica'], row['Valor'])\n",
    "            \n",
    "            mlflow.sklearn.log_model(md, model_name)"
   ]
  },
  {
   "cell_type": "code",
   "execution_count": null,
   "metadata": {},
   "outputs": [],
   "source": []
  },
  {
   "cell_type": "code",
   "execution_count": null,
   "metadata": {},
   "outputs": [],
   "source": []
  }
 ],
 "metadata": {
  "kernelspec": {
   "display_name": "Python 3",
   "language": "python",
   "name": "python3"
  },
  "language_info": {
   "codemirror_mode": {
    "name": "ipython",
    "version": 3
   },
   "file_extension": ".py",
   "mimetype": "text/x-python",
   "name": "python",
   "nbconvert_exporter": "python",
   "pygments_lexer": "ipython3",
   "version": "3.11.4"
  }
 },
 "nbformat": 4,
 "nbformat_minor": 2
}
