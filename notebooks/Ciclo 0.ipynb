{
 "cells": [
  {
   "cell_type": "markdown",
   "metadata": {},
   "source": [
    "# Imports"
   ]
  },
  {
   "cell_type": "code",
   "execution_count": 105,
   "metadata": {},
   "outputs": [],
   "source": [
    "import pandas as pd\n",
    "import sys \n",
    "import os\n",
    "import math\n",
    "import numpy as np  \n",
    "pd.set_option('display.float_format', lambda x: '%.4f' % x)\n",
    "\n",
    "\n",
    "from sklearn.model_selection import train_test_split\n",
    "from sklearn.preprocessing import LabelEncoder\n",
    "\n",
    "\n",
    "sys.path.insert(0, '../src/')\n",
    "from data.data_load import DataLoad"
   ]
  },
  {
   "cell_type": "markdown",
   "metadata": {},
   "source": [
    "# Helper Functions"
   ]
  },
  {
   "cell_type": "code",
   "execution_count": 106,
   "metadata": {},
   "outputs": [],
   "source": [
    "from sklearn.metrics import mean_squared_error, mean_absolute_error, r2_score\n",
    "\n",
    "def regression_metrics(y_true, y_pred):\n",
    "    \"\"\"\n",
    "    Calcula várias métricas de regressão e retorna um DataFrame.\n",
    "\n",
    "    Parâmetros:\n",
    "    - y_true: Valores reais.\n",
    "    - y_pred: Valores preditos.\n",
    "\n",
    "    Retorna:\n",
    "    - DataFrame contendo métricas de regressão.\n",
    "    \"\"\"\n",
    "\n",
    "    absolute_errors = np.abs(y_true - y_pred)\n",
    "    percentage_errors = absolute_errors / np.maximum(np.abs(y_true), 1e-8)\n",
    "\n",
    "    metrics_dict = {\n",
    "        'mse': mean_squared_error(y_true, y_pred),\n",
    "        'rmse': np.sqrt(mean_squared_error(y_true, y_pred)),\n",
    "        'mae': mean_absolute_error(y_true, y_pred),\n",
    "        'r2': r2_score(y_true, y_pred),\n",
    "        'mape': np.mean(percentage_errors) * 100\n",
    "        # Adicione mais métricas conforme necessário\n",
    "    }\n",
    "\n",
    "    metrics_df = pd.DataFrame(list(metrics_dict.items()), columns=['Métrica', 'Valor'])\n",
    "    return metrics_df"
   ]
  },
  {
   "cell_type": "markdown",
   "metadata": {},
   "source": [
    "# Data Load"
   ]
  },
  {
   "cell_type": "code",
   "execution_count": 107,
   "metadata": {},
   "outputs": [
    {
     "name": "stdout",
     "output_type": "stream",
     "text": [
      "c:\\Users\\thale\\Documents\\Projetos_DS\\projeto_aluno_mlflow\\delivery_fast\\notebooks\\../src\\data\n",
      "2023-12-24 11:16:56 [info     ] Iniciando o carregamento\n",
      "c:\\Users\\thale\\Documents\\Projetos_DS\\projeto_aluno_mlflow\\delivery_fast\\src\\data\n",
      "c:\\Users\\thale\\Documents\\Projetos_DS\\projeto_aluno_mlflow\\delivery_fast\\data\\raw\\dados.csv\n"
     ]
    }
   ],
   "source": [
    "dl = DataLoad()\n",
    "df = dl.load_data('dados_train')"
   ]
  },
  {
   "cell_type": "markdown",
   "metadata": {},
   "source": [
    "# 1.0 Descrição dos Dados"
   ]
  },
  {
   "cell_type": "code",
   "execution_count": 108,
   "metadata": {},
   "outputs": [],
   "source": [
    "df1 = df.copy()"
   ]
  },
  {
   "cell_type": "markdown",
   "metadata": {},
   "source": [
    "## 1.1 Dimensão dos Dados"
   ]
  },
  {
   "cell_type": "code",
   "execution_count": 109,
   "metadata": {},
   "outputs": [
    {
     "data": {
      "text/plain": [
       "(197428, 16)"
      ]
     },
     "execution_count": 109,
     "metadata": {},
     "output_type": "execute_result"
    }
   ],
   "source": [
    "df1.shape"
   ]
  },
  {
   "cell_type": "markdown",
   "metadata": {},
   "source": [
    "## 1.2 Tipo dos Dados"
   ]
  },
  {
   "cell_type": "code",
   "execution_count": 110,
   "metadata": {},
   "outputs": [
    {
     "data": {
      "text/plain": [
       "market_id                                       float64\n",
       "created_at                                       object\n",
       "actual_delivery_time                             object\n",
       "store_id                                          int64\n",
       "store_primary_category                           object\n",
       "order_protocol                                  float64\n",
       "total_items                                       int64\n",
       "subtotal                                          int64\n",
       "num_distinct_items                                int64\n",
       "min_item_price                                    int64\n",
       "max_item_price                                    int64\n",
       "total_onshift_dashers                           float64\n",
       "total_busy_dashers                              float64\n",
       "total_outstanding_orders                        float64\n",
       "estimated_order_place_duration                    int64\n",
       "estimated_store_to_consumer_driving_duration    float64\n",
       "dtype: object"
      ]
     },
     "execution_count": 110,
     "metadata": {},
     "output_type": "execute_result"
    }
   ],
   "source": [
    "df1.dtypes"
   ]
  },
  {
   "cell_type": "markdown",
   "metadata": {},
   "source": [
    "## 1.3 Check Na"
   ]
  },
  {
   "cell_type": "code",
   "execution_count": 111,
   "metadata": {},
   "outputs": [
    {
     "data": {
      "text/plain": [
       "market_id                                         987\n",
       "created_at                                          0\n",
       "actual_delivery_time                                7\n",
       "store_id                                            0\n",
       "store_primary_category                           4760\n",
       "order_protocol                                    995\n",
       "total_items                                         0\n",
       "subtotal                                            0\n",
       "num_distinct_items                                  0\n",
       "min_item_price                                      0\n",
       "max_item_price                                      0\n",
       "total_onshift_dashers                           16262\n",
       "total_busy_dashers                              16262\n",
       "total_outstanding_orders                        16262\n",
       "estimated_order_place_duration                      0\n",
       "estimated_store_to_consumer_driving_duration      526\n",
       "dtype: int64"
      ]
     },
     "execution_count": 111,
     "metadata": {},
     "output_type": "execute_result"
    }
   ],
   "source": [
    "df1.isna().sum()"
   ]
  },
  {
   "cell_type": "markdown",
   "metadata": {},
   "source": [
    "# 2.0 Fill Na"
   ]
  },
  {
   "cell_type": "code",
   "execution_count": 112,
   "metadata": {},
   "outputs": [],
   "source": [
    "df2 = df1.copy()"
   ]
  },
  {
   "cell_type": "code",
   "execution_count": 113,
   "metadata": {},
   "outputs": [],
   "source": [
    "df2 = df2.dropna()"
   ]
  },
  {
   "cell_type": "code",
   "execution_count": 114,
   "metadata": {},
   "outputs": [],
   "source": [
    "# # total_onshift_dashers\n",
    "# df2['total_onshift_dashers'] = df2['total_onshift_dashers'].apply(lambda x: 0 if math.isnan(x) else x)\n",
    "\n",
    "# # total_busy_dashers\n",
    "# df2['total_busy_dashers'] = df2['total_busy_dashers'].apply(lambda x: 0 if math.isnan(x) else x)\n",
    "\n",
    "# # total_outstanding_orders\n",
    "# df2['total_outstanding_orders'] = df2['total_outstanding_orders'].apply(lambda x: 0 if math.isnan(x) else x)"
   ]
  },
  {
   "cell_type": "code",
   "execution_count": 115,
   "metadata": {},
   "outputs": [],
   "source": [
    "# df2[['store_id','store_primary_category']].groupby('store_id').count().reset_index().sort_values('store_primary_category', ascending=False)"
   ]
  },
  {
   "cell_type": "code",
   "execution_count": 116,
   "metadata": {},
   "outputs": [],
   "source": [
    "# df2.loc[df2['store_id'] == 6865]['store_primary_category'].value_counts()"
   ]
  },
  {
   "cell_type": "markdown",
   "metadata": {},
   "source": [
    "# 3.0 Change Data Type"
   ]
  },
  {
   "cell_type": "code",
   "execution_count": 117,
   "metadata": {},
   "outputs": [],
   "source": [
    "df3 = df2.copy()"
   ]
  },
  {
   "cell_type": "code",
   "execution_count": 118,
   "metadata": {},
   "outputs": [
    {
     "data": {
      "text/plain": [
       "market_id                                       float64\n",
       "created_at                                       object\n",
       "actual_delivery_time                             object\n",
       "store_id                                          int64\n",
       "store_primary_category                           object\n",
       "order_protocol                                  float64\n",
       "total_items                                       int64\n",
       "subtotal                                          int64\n",
       "num_distinct_items                                int64\n",
       "min_item_price                                    int64\n",
       "max_item_price                                    int64\n",
       "total_onshift_dashers                           float64\n",
       "total_busy_dashers                              float64\n",
       "total_outstanding_orders                        float64\n",
       "estimated_order_place_duration                    int64\n",
       "estimated_store_to_consumer_driving_duration    float64\n",
       "dtype: object"
      ]
     },
     "execution_count": 118,
     "metadata": {},
     "output_type": "execute_result"
    }
   ],
   "source": [
    "df3.dtypes"
   ]
  },
  {
   "cell_type": "code",
   "execution_count": 119,
   "metadata": {},
   "outputs": [],
   "source": [
    "df3['created_at'] = pd.to_datetime(df3['created_at'])\n",
    "\n",
    "df3['actual_delivery_time'] = pd.to_datetime(df3['actual_delivery_time'])"
   ]
  },
  {
   "cell_type": "code",
   "execution_count": 120,
   "metadata": {},
   "outputs": [
    {
     "data": {
      "text/html": [
       "<div>\n",
       "<style scoped>\n",
       "    .dataframe tbody tr th:only-of-type {\n",
       "        vertical-align: middle;\n",
       "    }\n",
       "\n",
       "    .dataframe tbody tr th {\n",
       "        vertical-align: top;\n",
       "    }\n",
       "\n",
       "    .dataframe thead th {\n",
       "        text-align: right;\n",
       "    }\n",
       "</style>\n",
       "<table border=\"1\" class=\"dataframe\">\n",
       "  <thead>\n",
       "    <tr style=\"text-align: right;\">\n",
       "      <th></th>\n",
       "      <th>market_id</th>\n",
       "      <th>created_at</th>\n",
       "      <th>actual_delivery_time</th>\n",
       "      <th>store_id</th>\n",
       "      <th>store_primary_category</th>\n",
       "      <th>order_protocol</th>\n",
       "      <th>total_items</th>\n",
       "      <th>subtotal</th>\n",
       "      <th>num_distinct_items</th>\n",
       "      <th>min_item_price</th>\n",
       "      <th>max_item_price</th>\n",
       "      <th>total_onshift_dashers</th>\n",
       "      <th>total_busy_dashers</th>\n",
       "      <th>total_outstanding_orders</th>\n",
       "      <th>estimated_order_place_duration</th>\n",
       "      <th>estimated_store_to_consumer_driving_duration</th>\n",
       "    </tr>\n",
       "  </thead>\n",
       "  <tbody>\n",
       "    <tr>\n",
       "      <th>0</th>\n",
       "      <td>1.0000</td>\n",
       "      <td>2015-02-06 22:24:17</td>\n",
       "      <td>2015-02-06 23:27:16</td>\n",
       "      <td>1845</td>\n",
       "      <td>american</td>\n",
       "      <td>1.0000</td>\n",
       "      <td>4</td>\n",
       "      <td>3441</td>\n",
       "      <td>4</td>\n",
       "      <td>557</td>\n",
       "      <td>1239</td>\n",
       "      <td>33.0000</td>\n",
       "      <td>14.0000</td>\n",
       "      <td>21.0000</td>\n",
       "      <td>446</td>\n",
       "      <td>861.0000</td>\n",
       "    </tr>\n",
       "    <tr>\n",
       "      <th>1</th>\n",
       "      <td>2.0000</td>\n",
       "      <td>2015-02-10 21:49:25</td>\n",
       "      <td>2015-02-10 22:56:29</td>\n",
       "      <td>5477</td>\n",
       "      <td>mexican</td>\n",
       "      <td>2.0000</td>\n",
       "      <td>1</td>\n",
       "      <td>1900</td>\n",
       "      <td>1</td>\n",
       "      <td>1400</td>\n",
       "      <td>1400</td>\n",
       "      <td>1.0000</td>\n",
       "      <td>2.0000</td>\n",
       "      <td>2.0000</td>\n",
       "      <td>446</td>\n",
       "      <td>690.0000</td>\n",
       "    </tr>\n",
       "    <tr>\n",
       "      <th>8</th>\n",
       "      <td>2.0000</td>\n",
       "      <td>2015-02-16 00:11:35</td>\n",
       "      <td>2015-02-16 00:38:01</td>\n",
       "      <td>5477</td>\n",
       "      <td>indian</td>\n",
       "      <td>3.0000</td>\n",
       "      <td>4</td>\n",
       "      <td>4771</td>\n",
       "      <td>3</td>\n",
       "      <td>820</td>\n",
       "      <td>1604</td>\n",
       "      <td>8.0000</td>\n",
       "      <td>6.0000</td>\n",
       "      <td>18.0000</td>\n",
       "      <td>446</td>\n",
       "      <td>289.0000</td>\n",
       "    </tr>\n",
       "    <tr>\n",
       "      <th>14</th>\n",
       "      <td>1.0000</td>\n",
       "      <td>2015-02-12 03:36:46</td>\n",
       "      <td>2015-02-12 04:14:39</td>\n",
       "      <td>2841</td>\n",
       "      <td>italian</td>\n",
       "      <td>1.0000</td>\n",
       "      <td>1</td>\n",
       "      <td>1525</td>\n",
       "      <td>1</td>\n",
       "      <td>1525</td>\n",
       "      <td>1525</td>\n",
       "      <td>5.0000</td>\n",
       "      <td>6.0000</td>\n",
       "      <td>8.0000</td>\n",
       "      <td>446</td>\n",
       "      <td>795.0000</td>\n",
       "    </tr>\n",
       "    <tr>\n",
       "      <th>15</th>\n",
       "      <td>1.0000</td>\n",
       "      <td>2015-01-27 02:12:36</td>\n",
       "      <td>2015-01-27 03:02:24</td>\n",
       "      <td>2841</td>\n",
       "      <td>italian</td>\n",
       "      <td>1.0000</td>\n",
       "      <td>2</td>\n",
       "      <td>3620</td>\n",
       "      <td>2</td>\n",
       "      <td>1425</td>\n",
       "      <td>2195</td>\n",
       "      <td>5.0000</td>\n",
       "      <td>5.0000</td>\n",
       "      <td>7.0000</td>\n",
       "      <td>446</td>\n",
       "      <td>205.0000</td>\n",
       "    </tr>\n",
       "  </tbody>\n",
       "</table>\n",
       "</div>"
      ],
      "text/plain": [
       "    market_id          created_at actual_delivery_time  store_id  \\\n",
       "0      1.0000 2015-02-06 22:24:17  2015-02-06 23:27:16      1845   \n",
       "1      2.0000 2015-02-10 21:49:25  2015-02-10 22:56:29      5477   \n",
       "8      2.0000 2015-02-16 00:11:35  2015-02-16 00:38:01      5477   \n",
       "14     1.0000 2015-02-12 03:36:46  2015-02-12 04:14:39      2841   \n",
       "15     1.0000 2015-01-27 02:12:36  2015-01-27 03:02:24      2841   \n",
       "\n",
       "   store_primary_category  order_protocol  total_items  subtotal  \\\n",
       "0                american          1.0000            4      3441   \n",
       "1                 mexican          2.0000            1      1900   \n",
       "8                  indian          3.0000            4      4771   \n",
       "14                italian          1.0000            1      1525   \n",
       "15                italian          1.0000            2      3620   \n",
       "\n",
       "    num_distinct_items  min_item_price  max_item_price  total_onshift_dashers  \\\n",
       "0                    4             557            1239                33.0000   \n",
       "1                    1            1400            1400                 1.0000   \n",
       "8                    3             820            1604                 8.0000   \n",
       "14                   1            1525            1525                 5.0000   \n",
       "15                   2            1425            2195                 5.0000   \n",
       "\n",
       "    total_busy_dashers  total_outstanding_orders  \\\n",
       "0              14.0000                   21.0000   \n",
       "1               2.0000                    2.0000   \n",
       "8               6.0000                   18.0000   \n",
       "14              6.0000                    8.0000   \n",
       "15              5.0000                    7.0000   \n",
       "\n",
       "    estimated_order_place_duration  \\\n",
       "0                              446   \n",
       "1                              446   \n",
       "8                              446   \n",
       "14                             446   \n",
       "15                             446   \n",
       "\n",
       "    estimated_store_to_consumer_driving_duration  \n",
       "0                                       861.0000  \n",
       "1                                       690.0000  \n",
       "8                                       289.0000  \n",
       "14                                      795.0000  \n",
       "15                                      205.0000  "
      ]
     },
     "execution_count": 120,
     "metadata": {},
     "output_type": "execute_result"
    }
   ],
   "source": [
    "df3.head()"
   ]
  },
  {
   "cell_type": "markdown",
   "metadata": {},
   "source": [
    "# 4.0 Feature Engineering"
   ]
  },
  {
   "cell_type": "code",
   "execution_count": 121,
   "metadata": {},
   "outputs": [],
   "source": [
    "df4 = df3.copy()"
   ]
  },
  {
   "cell_type": "code",
   "execution_count": 122,
   "metadata": {},
   "outputs": [],
   "source": [
    "df4['target'] = (df4['actual_delivery_time'] - df4['created_at']).dt.total_seconds()"
   ]
  },
  {
   "cell_type": "markdown",
   "metadata": {},
   "source": [
    "# 5.0 Data Preparation"
   ]
  },
  {
   "cell_type": "code",
   "execution_count": 123,
   "metadata": {},
   "outputs": [],
   "source": [
    "df5 = df4.copy()"
   ]
  },
  {
   "cell_type": "code",
   "execution_count": 124,
   "metadata": {},
   "outputs": [],
   "source": [
    "df5 = df5[['market_id', 'store_id',\n",
    "       'store_primary_category', 'order_protocol', 'total_items', 'subtotal',\n",
    "       'num_distinct_items', 'min_item_price', 'max_item_price',\n",
    "       'total_onshift_dashers', 'total_busy_dashers',\n",
    "       'total_outstanding_orders', 'estimated_order_place_duration',\n",
    "       'estimated_store_to_consumer_driving_duration', 'target']]"
   ]
  },
  {
   "cell_type": "code",
   "execution_count": 125,
   "metadata": {},
   "outputs": [],
   "source": [
    "X = df5.drop('target', axis=1)\n",
    "y = df5['target']"
   ]
  },
  {
   "cell_type": "code",
   "execution_count": 126,
   "metadata": {},
   "outputs": [],
   "source": [
    "X_train, X_valid, y_train, y_valid = train_test_split(X, y, test_size=0.2, random_state=42)"
   ]
  },
  {
   "cell_type": "markdown",
   "metadata": {},
   "source": [
    "# 6.0 Data Preprocess"
   ]
  },
  {
   "cell_type": "code",
   "execution_count": 127,
   "metadata": {},
   "outputs": [],
   "source": [
    "le = LabelEncoder()"
   ]
  },
  {
   "cell_type": "markdown",
   "metadata": {},
   "source": [
    "## 6.1 Encoding"
   ]
  },
  {
   "cell_type": "code",
   "execution_count": 128,
   "metadata": {},
   "outputs": [],
   "source": [
    "all_categories = set(X_train['store_primary_category']).union(set(X_valid['store_primary_category']))\n",
    "le.fit(list(all_categories))\n",
    "# Dados de Treino\n",
    "X_train['store_primary_category'] = le.transform(X_train['store_primary_category'])\n",
    "\n"
   ]
  },
  {
   "cell_type": "code",
   "execution_count": 129,
   "metadata": {},
   "outputs": [],
   "source": [
    "default_label = 'desconhecido'\n",
    "X_valid['store_primary_category'] = X_valid['store_primary_category'].replace(to_replace={cat: default_label for cat in all_categories.difference(X_valid['store_primary_category'])})\n",
    "\n",
    "# Aplicar o LabelEncoder para transformar as categorias\n",
    "X_valid['store_primary_category'] = le.transform(X_valid['store_primary_category'])"
   ]
  },
  {
   "cell_type": "code",
   "execution_count": 130,
   "metadata": {},
   "outputs": [
    {
     "data": {
      "text/html": [
       "<div>\n",
       "<style scoped>\n",
       "    .dataframe tbody tr th:only-of-type {\n",
       "        vertical-align: middle;\n",
       "    }\n",
       "\n",
       "    .dataframe tbody tr th {\n",
       "        vertical-align: top;\n",
       "    }\n",
       "\n",
       "    .dataframe thead th {\n",
       "        text-align: right;\n",
       "    }\n",
       "</style>\n",
       "<table border=\"1\" class=\"dataframe\">\n",
       "  <thead>\n",
       "    <tr style=\"text-align: right;\">\n",
       "      <th></th>\n",
       "      <th>market_id</th>\n",
       "      <th>store_id</th>\n",
       "      <th>store_primary_category</th>\n",
       "      <th>order_protocol</th>\n",
       "      <th>total_items</th>\n",
       "      <th>subtotal</th>\n",
       "      <th>num_distinct_items</th>\n",
       "      <th>min_item_price</th>\n",
       "      <th>max_item_price</th>\n",
       "      <th>total_onshift_dashers</th>\n",
       "      <th>total_busy_dashers</th>\n",
       "      <th>total_outstanding_orders</th>\n",
       "      <th>estimated_order_place_duration</th>\n",
       "      <th>estimated_store_to_consumer_driving_duration</th>\n",
       "    </tr>\n",
       "  </thead>\n",
       "  <tbody>\n",
       "    <tr>\n",
       "      <th>114965</th>\n",
       "      <td>2.0000</td>\n",
       "      <td>2179</td>\n",
       "      <td>45</td>\n",
       "      <td>2.0000</td>\n",
       "      <td>1</td>\n",
       "      <td>820</td>\n",
       "      <td>1</td>\n",
       "      <td>745</td>\n",
       "      <td>745</td>\n",
       "      <td>35.0000</td>\n",
       "      <td>39.0000</td>\n",
       "      <td>56.0000</td>\n",
       "      <td>251</td>\n",
       "      <td>758.0000</td>\n",
       "    </tr>\n",
       "    <tr>\n",
       "      <th>106226</th>\n",
       "      <td>4.0000</td>\n",
       "      <td>4234</td>\n",
       "      <td>20</td>\n",
       "      <td>3.0000</td>\n",
       "      <td>1</td>\n",
       "      <td>995</td>\n",
       "      <td>1</td>\n",
       "      <td>995</td>\n",
       "      <td>995</td>\n",
       "      <td>110.0000</td>\n",
       "      <td>72.0000</td>\n",
       "      <td>116.0000</td>\n",
       "      <td>251</td>\n",
       "      <td>779.0000</td>\n",
       "    </tr>\n",
       "    <tr>\n",
       "      <th>56155</th>\n",
       "      <td>1.0000</td>\n",
       "      <td>1585</td>\n",
       "      <td>36</td>\n",
       "      <td>3.0000</td>\n",
       "      <td>4</td>\n",
       "      <td>2040</td>\n",
       "      <td>4</td>\n",
       "      <td>150</td>\n",
       "      <td>895</td>\n",
       "      <td>6.0000</td>\n",
       "      <td>3.0000</td>\n",
       "      <td>7.0000</td>\n",
       "      <td>251</td>\n",
       "      <td>454.0000</td>\n",
       "    </tr>\n",
       "    <tr>\n",
       "      <th>42322</th>\n",
       "      <td>3.0000</td>\n",
       "      <td>1874</td>\n",
       "      <td>39</td>\n",
       "      <td>1.0000</td>\n",
       "      <td>2</td>\n",
       "      <td>2376</td>\n",
       "      <td>2</td>\n",
       "      <td>579</td>\n",
       "      <td>1399</td>\n",
       "      <td>16.0000</td>\n",
       "      <td>17.0000</td>\n",
       "      <td>19.0000</td>\n",
       "      <td>446</td>\n",
       "      <td>836.0000</td>\n",
       "    </tr>\n",
       "    <tr>\n",
       "      <th>103126</th>\n",
       "      <td>2.0000</td>\n",
       "      <td>3937</td>\n",
       "      <td>6</td>\n",
       "      <td>1.0000</td>\n",
       "      <td>1</td>\n",
       "      <td>1430</td>\n",
       "      <td>1</td>\n",
       "      <td>1320</td>\n",
       "      <td>1320</td>\n",
       "      <td>64.0000</td>\n",
       "      <td>47.0000</td>\n",
       "      <td>52.0000</td>\n",
       "      <td>251</td>\n",
       "      <td>789.0000</td>\n",
       "    </tr>\n",
       "    <tr>\n",
       "      <th>...</th>\n",
       "      <td>...</td>\n",
       "      <td>...</td>\n",
       "      <td>...</td>\n",
       "      <td>...</td>\n",
       "      <td>...</td>\n",
       "      <td>...</td>\n",
       "      <td>...</td>\n",
       "      <td>...</td>\n",
       "      <td>...</td>\n",
       "      <td>...</td>\n",
       "      <td>...</td>\n",
       "      <td>...</td>\n",
       "      <td>...</td>\n",
       "      <td>...</td>\n",
       "    </tr>\n",
       "    <tr>\n",
       "      <th>134700</th>\n",
       "      <td>2.0000</td>\n",
       "      <td>3019</td>\n",
       "      <td>58</td>\n",
       "      <td>5.0000</td>\n",
       "      <td>1</td>\n",
       "      <td>1111</td>\n",
       "      <td>1</td>\n",
       "      <td>1111</td>\n",
       "      <td>1111</td>\n",
       "      <td>31.0000</td>\n",
       "      <td>31.0000</td>\n",
       "      <td>34.0000</td>\n",
       "      <td>251</td>\n",
       "      <td>926.0000</td>\n",
       "    </tr>\n",
       "    <tr>\n",
       "      <th>116075</th>\n",
       "      <td>2.0000</td>\n",
       "      <td>915</td>\n",
       "      <td>24</td>\n",
       "      <td>1.0000</td>\n",
       "      <td>4</td>\n",
       "      <td>2880</td>\n",
       "      <td>3</td>\n",
       "      <td>495</td>\n",
       "      <td>795</td>\n",
       "      <td>95.0000</td>\n",
       "      <td>80.0000</td>\n",
       "      <td>111.0000</td>\n",
       "      <td>446</td>\n",
       "      <td>693.0000</td>\n",
       "    </tr>\n",
       "    <tr>\n",
       "      <th>148324</th>\n",
       "      <td>6.0000</td>\n",
       "      <td>3853</td>\n",
       "      <td>46</td>\n",
       "      <td>5.0000</td>\n",
       "      <td>2</td>\n",
       "      <td>1799</td>\n",
       "      <td>2</td>\n",
       "      <td>300</td>\n",
       "      <td>899</td>\n",
       "      <td>18.0000</td>\n",
       "      <td>18.0000</td>\n",
       "      <td>15.0000</td>\n",
       "      <td>446</td>\n",
       "      <td>548.0000</td>\n",
       "    </tr>\n",
       "    <tr>\n",
       "      <th>164942</th>\n",
       "      <td>5.0000</td>\n",
       "      <td>5923</td>\n",
       "      <td>36</td>\n",
       "      <td>2.0000</td>\n",
       "      <td>10</td>\n",
       "      <td>4015</td>\n",
       "      <td>4</td>\n",
       "      <td>195</td>\n",
       "      <td>850</td>\n",
       "      <td>26.0000</td>\n",
       "      <td>24.0000</td>\n",
       "      <td>28.0000</td>\n",
       "      <td>251</td>\n",
       "      <td>590.0000</td>\n",
       "    </tr>\n",
       "    <tr>\n",
       "      <th>136954</th>\n",
       "      <td>1.0000</td>\n",
       "      <td>914</td>\n",
       "      <td>55</td>\n",
       "      <td>3.0000</td>\n",
       "      <td>4</td>\n",
       "      <td>4951</td>\n",
       "      <td>4</td>\n",
       "      <td>549</td>\n",
       "      <td>1399</td>\n",
       "      <td>47.0000</td>\n",
       "      <td>27.0000</td>\n",
       "      <td>27.0000</td>\n",
       "      <td>251</td>\n",
       "      <td>451.0000</td>\n",
       "    </tr>\n",
       "  </tbody>\n",
       "</table>\n",
       "<p>140621 rows × 14 columns</p>\n",
       "</div>"
      ],
      "text/plain": [
       "        market_id  store_id  store_primary_category  order_protocol  \\\n",
       "114965     2.0000      2179                      45          2.0000   \n",
       "106226     4.0000      4234                      20          3.0000   \n",
       "56155      1.0000      1585                      36          3.0000   \n",
       "42322      3.0000      1874                      39          1.0000   \n",
       "103126     2.0000      3937                       6          1.0000   \n",
       "...           ...       ...                     ...             ...   \n",
       "134700     2.0000      3019                      58          5.0000   \n",
       "116075     2.0000       915                      24          1.0000   \n",
       "148324     6.0000      3853                      46          5.0000   \n",
       "164942     5.0000      5923                      36          2.0000   \n",
       "136954     1.0000       914                      55          3.0000   \n",
       "\n",
       "        total_items  subtotal  num_distinct_items  min_item_price  \\\n",
       "114965            1       820                   1             745   \n",
       "106226            1       995                   1             995   \n",
       "56155             4      2040                   4             150   \n",
       "42322             2      2376                   2             579   \n",
       "103126            1      1430                   1            1320   \n",
       "...             ...       ...                 ...             ...   \n",
       "134700            1      1111                   1            1111   \n",
       "116075            4      2880                   3             495   \n",
       "148324            2      1799                   2             300   \n",
       "164942           10      4015                   4             195   \n",
       "136954            4      4951                   4             549   \n",
       "\n",
       "        max_item_price  total_onshift_dashers  total_busy_dashers  \\\n",
       "114965             745                35.0000             39.0000   \n",
       "106226             995               110.0000             72.0000   \n",
       "56155              895                 6.0000              3.0000   \n",
       "42322             1399                16.0000             17.0000   \n",
       "103126            1320                64.0000             47.0000   \n",
       "...                ...                    ...                 ...   \n",
       "134700            1111                31.0000             31.0000   \n",
       "116075             795                95.0000             80.0000   \n",
       "148324             899                18.0000             18.0000   \n",
       "164942             850                26.0000             24.0000   \n",
       "136954            1399                47.0000             27.0000   \n",
       "\n",
       "        total_outstanding_orders  estimated_order_place_duration  \\\n",
       "114965                   56.0000                             251   \n",
       "106226                  116.0000                             251   \n",
       "56155                     7.0000                             251   \n",
       "42322                    19.0000                             446   \n",
       "103126                   52.0000                             251   \n",
       "...                          ...                             ...   \n",
       "134700                   34.0000                             251   \n",
       "116075                  111.0000                             446   \n",
       "148324                   15.0000                             446   \n",
       "164942                   28.0000                             251   \n",
       "136954                   27.0000                             251   \n",
       "\n",
       "        estimated_store_to_consumer_driving_duration  \n",
       "114965                                      758.0000  \n",
       "106226                                      779.0000  \n",
       "56155                                       454.0000  \n",
       "42322                                       836.0000  \n",
       "103126                                      789.0000  \n",
       "...                                              ...  \n",
       "134700                                      926.0000  \n",
       "116075                                      693.0000  \n",
       "148324                                      548.0000  \n",
       "164942                                      590.0000  \n",
       "136954                                      451.0000  \n",
       "\n",
       "[140621 rows x 14 columns]"
      ]
     },
     "execution_count": 130,
     "metadata": {},
     "output_type": "execute_result"
    }
   ],
   "source": [
    "X_train"
   ]
  },
  {
   "cell_type": "markdown",
   "metadata": {},
   "source": [
    "# 7.0 Machine Learning"
   ]
  },
  {
   "cell_type": "code",
   "execution_count": 131,
   "metadata": {},
   "outputs": [],
   "source": [
    "import mlflow\n",
    "from mlflow.tracking import MlflowClient"
   ]
  },
  {
   "cell_type": "markdown",
   "metadata": {},
   "source": [
    "## 7.1 Linear Regression"
   ]
  },
  {
   "cell_type": "code",
   "execution_count": 132,
   "metadata": {},
   "outputs": [],
   "source": [
    "mlflow.set_tracking_uri('http://127.0.0.1:5000')"
   ]
  },
  {
   "cell_type": "code",
   "execution_count": 133,
   "metadata": {},
   "outputs": [
    {
     "data": {
      "text/plain": [
       "<Experiment: artifact_location='mlflow-artifacts:/1', creation_time=1703426525900, experiment_id='1', last_update_time=1703426525900, lifecycle_stage='active', name='linear_regression', tags={}>"
      ]
     },
     "execution_count": 133,
     "metadata": {},
     "output_type": "execute_result"
    }
   ],
   "source": [
    "# Nome do experimento\n",
    "experiment_name = 'linear_regression'\n",
    "\n",
    "# Obtém o experimento (se existir)\n",
    "experiment = mlflow.get_experiment_by_name(experiment_name)\n",
    "\n",
    "# Cria o experimento se não existir\n",
    "if experiment is None:\n",
    "    mlflow.create_experiment(experiment_name)\n",
    "\n",
    "# Define o experimento como ativo\n",
    "mlflow.set_experiment(experiment_name)"
   ]
  },
  {
   "cell_type": "markdown",
   "metadata": {},
   "source": []
  },
  {
   "cell_type": "code",
   "execution_count": 134,
   "metadata": {},
   "outputs": [
    {
     "name": "stderr",
     "output_type": "stream",
     "text": [
      "c:\\Users\\thale\\AppData\\Local\\Programs\\Python\\Python311\\Lib\\site-packages\\_distutils_hack\\__init__.py:18: UserWarning: Distutils was imported before Setuptools, but importing Setuptools also replaces the `distutils` module in `sys.modules`. This may lead to undesirable behaviors or errors. To avoid these issues, avoid using distutils directly, ensure that setuptools is installed in the traditional way (e.g. not an editable install), and/or make sure that setuptools is always imported before distutils.\n",
      "  warnings.warn(\n",
      "c:\\Users\\thale\\AppData\\Local\\Programs\\Python\\Python311\\Lib\\site-packages\\_distutils_hack\\__init__.py:33: UserWarning: Setuptools is replacing distutils.\n",
      "  warnings.warn(\"Setuptools is replacing distutils.\")\n"
     ]
    }
   ],
   "source": [
    "from sklearn.linear_model import LinearRegression\n",
    "\n",
    "with mlflow.start_run(run_name='baseline'):\n",
    "    mlflow.set_tag('model_name', 'linear_regression_baseline')\n",
    "\n",
    "    #model definition\n",
    "    lr_model = LinearRegression()\n",
    "\n",
    "    # model train\n",
    "    lr_model.fit(X_train, y_train)\n",
    "\n",
    "    # model predict\n",
    "    y_pred_lr = lr_model.predict(X_valid)\n",
    "\n",
    "    params_lr = lr_model.get_params()\n",
    "\n",
    "    # log nos parametros do modelo\n",
    "    for i in params_lr:\n",
    "        mlflow.log_param(i, params_lr[i])\n",
    "    \n",
    "    # Calculando as métricas de performance \n",
    "    df_result_lr = regression_metrics(y_valid, y_pred_lr)\n",
    "\n",
    "    # log nas métricas que vem de df_result_lr\n",
    "    for index, row in df_result_lr.iterrows():\n",
    "        mlflow.log_metric(row['Métrica'], row['Valor'])\n",
    "    \n",
    "    mlflow.sklearn.log_model(lr_model, \"linear_regression_model\")\n"
   ]
  },
  {
   "cell_type": "markdown",
   "metadata": {},
   "source": [
    "## 7.2 Ridge"
   ]
  },
  {
   "cell_type": "code",
   "execution_count": 135,
   "metadata": {},
   "outputs": [
    {
     "data": {
      "text/plain": [
       "<Experiment: artifact_location='mlflow-artifacts:/2', creation_time=1703426538433, experiment_id='2', last_update_time=1703426538433, lifecycle_stage='active', name='ridge', tags={}>"
      ]
     },
     "execution_count": 135,
     "metadata": {},
     "output_type": "execute_result"
    }
   ],
   "source": [
    "mlflow.set_tracking_uri('http://127.0.0.1:5000')\n",
    "mlflow.set_experiment('ridge')"
   ]
  },
  {
   "cell_type": "code",
   "execution_count": 136,
   "metadata": {},
   "outputs": [
    {
     "name": "stderr",
     "output_type": "stream",
     "text": [
      "c:\\Users\\thale\\AppData\\Local\\Programs\\Python\\Python311\\Lib\\site-packages\\_distutils_hack\\__init__.py:18: UserWarning: Distutils was imported before Setuptools, but importing Setuptools also replaces the `distutils` module in `sys.modules`. This may lead to undesirable behaviors or errors. To avoid these issues, avoid using distutils directly, ensure that setuptools is installed in the traditional way (e.g. not an editable install), and/or make sure that setuptools is always imported before distutils.\n",
      "  warnings.warn(\n",
      "c:\\Users\\thale\\AppData\\Local\\Programs\\Python\\Python311\\Lib\\site-packages\\_distutils_hack\\__init__.py:33: UserWarning: Setuptools is replacing distutils.\n",
      "  warnings.warn(\"Setuptools is replacing distutils.\")\n"
     ]
    }
   ],
   "source": [
    "from sklearn.linear_model import Ridge\n",
    "\n",
    "with mlflow.start_run(run_name='baseline'):\n",
    "    mlflow.set_tag('model_name', 'ridge_baseline')\n",
    "\n",
    "    #model definition\n",
    "    rd_model = Ridge()\n",
    "\n",
    "    # model train\n",
    "    rd_model.fit(X_train, y_train)\n",
    "\n",
    "    # model predict\n",
    "    y_pred_rd = rd_model.predict(X_valid)\n",
    "\n",
    "    # Model Evaluation\n",
    "    df_result_rd = regression_metrics(y_valid, y_pred_rd)\n",
    "\n",
    "    params = rd_model.get_params()\n",
    "\n",
    "    # log nos parametros do modelo\n",
    "    for i in params:\n",
    "        mlflow.log_param(i, params[i])\n",
    "    \n",
    "\n",
    "    # log nas métricas que vem de df_result_rd\n",
    "    for index, row in df_result_rd.iterrows():\n",
    "        mlflow.log_metric(row['Métrica'], row['Valor'])\n",
    "    \n",
    "    mlflow.sklearn.log_model(rd_model, \"ridge_model\")"
   ]
  },
  {
   "cell_type": "markdown",
   "metadata": {},
   "source": [
    "## Lasso"
   ]
  },
  {
   "cell_type": "code",
   "execution_count": 137,
   "metadata": {},
   "outputs": [
    {
     "data": {
      "text/plain": [
       "<Experiment: artifact_location='mlflow-artifacts:/3', creation_time=1703426545086, experiment_id='3', last_update_time=1703426545086, lifecycle_stage='active', name='lasso', tags={}>"
      ]
     },
     "execution_count": 137,
     "metadata": {},
     "output_type": "execute_result"
    }
   ],
   "source": [
    "mlflow.set_tracking_uri('http://127.0.0.1:5000')\n",
    "mlflow.set_experiment('lasso')"
   ]
  },
  {
   "cell_type": "code",
   "execution_count": 138,
   "metadata": {},
   "outputs": [
    {
     "name": "stderr",
     "output_type": "stream",
     "text": [
      "c:\\Users\\thale\\AppData\\Local\\Programs\\Python\\Python311\\Lib\\site-packages\\_distutils_hack\\__init__.py:18: UserWarning: Distutils was imported before Setuptools, but importing Setuptools also replaces the `distutils` module in `sys.modules`. This may lead to undesirable behaviors or errors. To avoid these issues, avoid using distutils directly, ensure that setuptools is installed in the traditional way (e.g. not an editable install), and/or make sure that setuptools is always imported before distutils.\n",
      "  warnings.warn(\n",
      "c:\\Users\\thale\\AppData\\Local\\Programs\\Python\\Python311\\Lib\\site-packages\\_distutils_hack\\__init__.py:33: UserWarning: Setuptools is replacing distutils.\n",
      "  warnings.warn(\"Setuptools is replacing distutils.\")\n"
     ]
    }
   ],
   "source": [
    "from sklearn.linear_model import Lasso\n",
    "\n",
    "with mlflow.start_run(run_name='baseline'):\n",
    "    mlflow.set_tag('model_name', 'lasso_baseline')\n",
    "\n",
    "    ls_model = Lasso()\n",
    "\n",
    "    # model train\n",
    "    ls_model.fit(X_train, y_train)\n",
    "\n",
    "    # model predict\n",
    "    y_pred_ls = ls_model.predict(X_valid)\n",
    "\n",
    "    # Model Evaluation\n",
    "    df_result_ls = regression_metrics(y_valid, y_pred_ls)\n",
    "\n",
    "    params = ls_model.get_params()\n",
    "\n",
    "    # log nos parametros do modelo\n",
    "    for i in params:\n",
    "        mlflow.log_param(i, params[i])\n",
    "    \n",
    "\n",
    "    # log nas métricas que vem de df_result_rd\n",
    "    for index, row in df_result_ls.iterrows():\n",
    "        mlflow.log_metric(row['Métrica'], row['Valor'])\n",
    "    \n",
    "    mlflow.sklearn.log_model(ls_model, \"lasso_model\")"
   ]
  },
  {
   "cell_type": "markdown",
   "metadata": {},
   "source": [
    "## KNeighbors"
   ]
  },
  {
   "cell_type": "code",
   "execution_count": 139,
   "metadata": {},
   "outputs": [
    {
     "data": {
      "text/plain": [
       "<Experiment: artifact_location='mlflow-artifacts:/4', creation_time=1703426998729, experiment_id='4', last_update_time=1703426998729, lifecycle_stage='active', name='KNeighbors', tags={}>"
      ]
     },
     "execution_count": 139,
     "metadata": {},
     "output_type": "execute_result"
    }
   ],
   "source": [
    "mlflow.set_experiment('KNeighbors')"
   ]
  },
  {
   "cell_type": "code",
   "execution_count": 140,
   "metadata": {},
   "outputs": [
    {
     "name": "stderr",
     "output_type": "stream",
     "text": [
      "c:\\Users\\thale\\AppData\\Local\\Programs\\Python\\Python311\\Lib\\site-packages\\_distutils_hack\\__init__.py:18: UserWarning: Distutils was imported before Setuptools, but importing Setuptools also replaces the `distutils` module in `sys.modules`. This may lead to undesirable behaviors or errors. To avoid these issues, avoid using distutils directly, ensure that setuptools is installed in the traditional way (e.g. not an editable install), and/or make sure that setuptools is always imported before distutils.\n",
      "  warnings.warn(\n",
      "c:\\Users\\thale\\AppData\\Local\\Programs\\Python\\Python311\\Lib\\site-packages\\_distutils_hack\\__init__.py:33: UserWarning: Setuptools is replacing distutils.\n",
      "  warnings.warn(\"Setuptools is replacing distutils.\")\n"
     ]
    }
   ],
   "source": [
    "from sklearn.neighbors import KNeighborsRegressor\n",
    "\n",
    "with mlflow.start_run(run_name='baseline'):\n",
    "    mlflow.set_tag('model_name', 'kn_baseline')\n",
    "\n",
    "    kn_model = KNeighborsRegressor()\n",
    "\n",
    "    # model train\n",
    "    kn_model.fit(X_train, y_train)\n",
    "\n",
    "    # model predict\n",
    "    y_pred_kn = kn_model.predict(X_valid)\n",
    "\n",
    "    # Model Evaluation\n",
    "    df_result_kn = regression_metrics(y_valid, y_pred_kn)\n",
    "\n",
    "    params = kn_model.get_params()\n",
    "\n",
    "    # log nos parametros do modelo\n",
    "    for i in params:\n",
    "        mlflow.log_param(i, params[i])\n",
    "    \n",
    "\n",
    "    # log nas métricas que vem de df_result_rd\n",
    "    for index, row in df_result_kn.iterrows():\n",
    "        mlflow.log_metric(row['Métrica'], row['Valor'])\n",
    "    \n",
    "    mlflow.sklearn.log_model(kn_model, \"kn_model\")"
   ]
  },
  {
   "cell_type": "markdown",
   "metadata": {},
   "source": [
    "## Decision Tree"
   ]
  },
  {
   "cell_type": "code",
   "execution_count": 141,
   "metadata": {},
   "outputs": [
    {
     "data": {
      "text/plain": [
       "<Experiment: artifact_location='mlflow-artifacts:/5', creation_time=1703427017943, experiment_id='5', last_update_time=1703427017943, lifecycle_stage='active', name='Decision_Tree', tags={}>"
      ]
     },
     "execution_count": 141,
     "metadata": {},
     "output_type": "execute_result"
    }
   ],
   "source": [
    "mlflow.set_experiment('Decision_Tree')"
   ]
  },
  {
   "cell_type": "code",
   "execution_count": 142,
   "metadata": {},
   "outputs": [
    {
     "name": "stderr",
     "output_type": "stream",
     "text": [
      "2023/12/24 11:17:29 WARNING mlflow.sklearn: Model was missing function: predict. Not logging python_function flavor!\n",
      "c:\\Users\\thale\\AppData\\Local\\Programs\\Python\\Python311\\Lib\\site-packages\\_distutils_hack\\__init__.py:18: UserWarning: Distutils was imported before Setuptools, but importing Setuptools also replaces the `distutils` module in `sys.modules`. This may lead to undesirable behaviors or errors. To avoid these issues, avoid using distutils directly, ensure that setuptools is installed in the traditional way (e.g. not an editable install), and/or make sure that setuptools is always imported before distutils.\n",
      "  warnings.warn(\n",
      "c:\\Users\\thale\\AppData\\Local\\Programs\\Python\\Python311\\Lib\\site-packages\\_distutils_hack\\__init__.py:33: UserWarning: Setuptools is replacing distutils.\n",
      "  warnings.warn(\"Setuptools is replacing distutils.\")\n"
     ]
    }
   ],
   "source": [
    "from sklearn.tree import DecisionTreeRegressor\n",
    "\n",
    "with mlflow.start_run(run_name='baseline'):\n",
    "    mlflow.set_tag('model_name', 'dt_baseline')\n",
    "\n",
    "    #model definition\n",
    "    dt_model = DecisionTreeRegressor()\n",
    "\n",
    "    # model train\n",
    "    dt_model.fit(X_train, y_train)\n",
    "\n",
    "    # model predict\n",
    "    y_pred_dt = dt_model.predict(X_valid)\n",
    "\n",
    "    # Model Evaluation\n",
    "    df_result_dt = regression_metrics(y_valid, y_pred_dt)\n",
    "\n",
    "    params = dt_model.get_params()\n",
    "\n",
    "    # log nos parametros do modelo\n",
    "    for i in params:\n",
    "        mlflow.log_param(i, params[i])\n",
    "    \n",
    "\n",
    "    # log nas métricas que vem de df_result_rd\n",
    "    for index, row in df_result_dt.iterrows():\n",
    "        mlflow.log_metric(row['Métrica'], row['Valor'])\n",
    "    \n",
    "    mlflow.sklearn.log_model(df_result_dt, \"dt_model\")"
   ]
  },
  {
   "cell_type": "markdown",
   "metadata": {},
   "source": [
    "## Gradient Boosting"
   ]
  },
  {
   "cell_type": "code",
   "execution_count": 143,
   "metadata": {},
   "outputs": [
    {
     "data": {
      "text/plain": [
       "<Experiment: artifact_location='mlflow-artifacts:/6', creation_time=1703427140031, experiment_id='6', last_update_time=1703427140031, lifecycle_stage='active', name='Gradient_Boosting', tags={}>"
      ]
     },
     "execution_count": 143,
     "metadata": {},
     "output_type": "execute_result"
    }
   ],
   "source": [
    "mlflow.set_experiment('Gradient_Boosting')"
   ]
  },
  {
   "cell_type": "code",
   "execution_count": 144,
   "metadata": {},
   "outputs": [
    {
     "name": "stderr",
     "output_type": "stream",
     "text": [
      "c:\\Users\\thale\\AppData\\Local\\Programs\\Python\\Python311\\Lib\\site-packages\\_distutils_hack\\__init__.py:18: UserWarning: Distutils was imported before Setuptools, but importing Setuptools also replaces the `distutils` module in `sys.modules`. This may lead to undesirable behaviors or errors. To avoid these issues, avoid using distutils directly, ensure that setuptools is installed in the traditional way (e.g. not an editable install), and/or make sure that setuptools is always imported before distutils.\n",
      "  warnings.warn(\n",
      "c:\\Users\\thale\\AppData\\Local\\Programs\\Python\\Python311\\Lib\\site-packages\\_distutils_hack\\__init__.py:33: UserWarning: Setuptools is replacing distutils.\n",
      "  warnings.warn(\"Setuptools is replacing distutils.\")\n"
     ]
    }
   ],
   "source": [
    "from sklearn.ensemble import GradientBoostingRegressor\n",
    "\n",
    "with mlflow.start_run(run_name='baseline'):\n",
    "    mlflow.set_tag('model_name', 'gb_baseline')\n",
    "\n",
    "    #model definition\n",
    "    gb_model = GradientBoostingRegressor()\n",
    "\n",
    "    # model train\n",
    "    gb_model.fit(X_train, y_train)\n",
    "\n",
    "    # model predict\n",
    "    y_pred_gb = gb_model.predict(X_valid)\n",
    "\n",
    "    # Model Evaluation\n",
    "    df_result_gb = regression_metrics(y_valid, y_pred_gb)\n",
    "\n",
    "    params = gb_model.get_params()\n",
    "\n",
    "    # log nos parametros do modelo\n",
    "    for i in params:\n",
    "        mlflow.log_param(i, params[i])\n",
    "    \n",
    "\n",
    "    # log nas métricas que vem de df_result_rd\n",
    "    for index, row in df_result_gb.iterrows():\n",
    "        mlflow.log_metric(row['Métrica'], row['Valor'])\n",
    "    \n",
    "    mlflow.sklearn.log_model(gb_model, \"gb_model\")"
   ]
  },
  {
   "cell_type": "markdown",
   "metadata": {},
   "source": [
    "## 7.3 Random Forest Regression"
   ]
  },
  {
   "cell_type": "code",
   "execution_count": 145,
   "metadata": {},
   "outputs": [
    {
     "data": {
      "text/plain": [
       "<Experiment: artifact_location='mlflow-artifacts:/7', creation_time=1703427307447, experiment_id='7', last_update_time=1703427307447, lifecycle_stage='active', name='Random_Forest', tags={}>"
      ]
     },
     "execution_count": 145,
     "metadata": {},
     "output_type": "execute_result"
    }
   ],
   "source": [
    "mlflow.set_experiment('Random_Forest')"
   ]
  },
  {
   "cell_type": "code",
   "execution_count": 147,
   "metadata": {},
   "outputs": [],
   "source": [
    "from sklearn.ensemble import RandomForestRegressor\n",
    "\n",
    "with mlflow.start_run(run_name='baseline'):\n",
    "    mlflow.set_tag('model_name', 'rf_baseline')\n",
    "\n",
    "    #model definition\n",
    "    rf_model = RandomForestRegressor()\n",
    "\n",
    "    # model train\n",
    "    rf_model.fit(X_train, y_train)\n",
    "\n",
    "    # model predict\n",
    "    y_pred_rf = rf_model.predict(X_valid)\n",
    "\n",
    "    # Model Evaluation\n",
    "    df_result_rf = regression_metrics(y_valid, y_pred_rf)\n",
    "\n",
    "    params = rf_model.get_params()\n",
    "\n",
    "    # log nos parametros do modelo\n",
    "    for i in params:\n",
    "        mlflow.log_param(i, params[i])\n",
    "    \n",
    "\n",
    "    # log nas métricas que vem de df_result_rd\n",
    "    for index, row in df_result_rf.iterrows():\n",
    "        mlflow.log_metric(row['Métrica'], row['Valor'])\n",
    "    \n",
    "    mlflow.sklearn.log_model(rf_model, \"rf_model\")"
   ]
  },
  {
   "cell_type": "code",
   "execution_count": null,
   "metadata": {},
   "outputs": [],
   "source": []
  },
  {
   "cell_type": "code",
   "execution_count": null,
   "metadata": {},
   "outputs": [],
   "source": []
  },
  {
   "cell_type": "code",
   "execution_count": null,
   "metadata": {},
   "outputs": [],
   "source": []
  },
  {
   "cell_type": "code",
   "execution_count": null,
   "metadata": {},
   "outputs": [],
   "source": []
  },
  {
   "cell_type": "code",
   "execution_count": null,
   "metadata": {},
   "outputs": [],
   "source": []
  }
 ],
 "metadata": {
  "kernelspec": {
   "display_name": "Python 3",
   "language": "python",
   "name": "python3"
  },
  "language_info": {
   "codemirror_mode": {
    "name": "ipython",
    "version": 3
   },
   "file_extension": ".py",
   "mimetype": "text/x-python",
   "name": "python",
   "nbconvert_exporter": "python",
   "pygments_lexer": "ipython3",
   "version": "3.11.4"
  }
 },
 "nbformat": 4,
 "nbformat_minor": 2
}
