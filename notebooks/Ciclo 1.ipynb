{
 "cells": [
  {
   "cell_type": "markdown",
   "metadata": {},
   "source": [
    "# Imports"
   ]
  },
  {
   "cell_type": "code",
   "execution_count": 82,
   "metadata": {},
   "outputs": [],
   "source": [
    "import pandas as pd\n",
    "import sys \n",
    "import os\n",
    "import math\n",
    "import numpy as np \n",
    "import joblib\n",
    "pd.set_option('display.float_format', lambda x: '%.4f' % x)\n",
    "\n",
    "\n",
    "from sklearn.model_selection import train_test_split\n",
    "from sklearn.preprocessing import LabelEncoder, MinMaxScaler\n",
    "\n",
    "from sklearn.pipeline import Pipeline\n",
    "\n",
    "from sklearn.linear_model import LinearRegression, Ridge, Lasso\n",
    "from sklearn.neighbors import KNeighborsRegressor\n",
    "from sklearn.tree import DecisionTreeRegressor\n",
    "from sklearn.ensemble import GradientBoostingRegressor\n",
    "\n",
    "\n",
    "\n",
    "\n",
    "sys.path.insert(0, '../src/')\n",
    "from utils.utils import load_config_file\n",
    "from data.data_load import DataLoad\n",
    "from data.data_preprocess import DataPreprocess\n",
    "from data.data_transformation import DataTransformation"
   ]
  },
  {
   "cell_type": "markdown",
   "metadata": {},
   "source": [
    "# Helper Functions"
   ]
  },
  {
   "cell_type": "code",
   "execution_count": 83,
   "metadata": {},
   "outputs": [],
   "source": [
    "from sklearn.metrics import mean_squared_error, mean_absolute_error, r2_score\n",
    "\n",
    "def regression_metrics(y_true, y_pred):\n",
    "    \"\"\"\n",
    "    Calcula várias métricas de regressão e retorna um DataFrame.\n",
    "\n",
    "    Parâmetros:\n",
    "    - y_true: Valores reais.\n",
    "    - y_pred: Valores preditos.\n",
    "\n",
    "    Retorna:\n",
    "    - DataFrame contendo métricas de regressão.\n",
    "    \"\"\"\n",
    "\n",
    "    absolute_errors = np.abs(y_true - y_pred)\n",
    "    percentage_errors = absolute_errors / np.maximum(np.abs(y_true), 1e-8)\n",
    "\n",
    "    metrics_dict = {\n",
    "        'mse': mean_squared_error(y_true, y_pred),\n",
    "        'rmse': np.sqrt(mean_squared_error(y_true, y_pred)),\n",
    "        'mae': mean_absolute_error(y_true, y_pred),\n",
    "        'r2': r2_score(y_true, y_pred),\n",
    "        'mape': np.mean(percentage_errors) * 100\n",
    "        # Adicione mais métricas conforme necessário\n",
    "    }\n",
    "\n",
    "    metrics_df = pd.DataFrame(list(metrics_dict.items()), columns=['Métrica', 'Valor'])\n",
    "    return metrics_df\n",
    "\n",
    "\n",
    "from sklearn.base import BaseEstimator, TransformerMixin\n",
    "from sklearn.preprocessing import LabelEncoder\n",
    "import pandas as pd\n",
    "\n",
    "class CustomLabelEncoder(BaseEstimator, TransformerMixin):\n",
    "    def __init__(self, column):\n",
    "        self.column = column\n",
    "        self.le = LabelEncoder()\n",
    "        self.default_label = 'desconhecido'\n",
    "        self.categories_ = None\n",
    "\n",
    "    def fit(self, X, y=None):\n",
    "        all_categories = set(X[self.column])\n",
    "        all_categories.add(self.default_label)  # Adicione 'desconhecido' às categorias conhecidas\n",
    "        self.le.fit(list(all_categories))\n",
    "        self.categories_ = all_categories\n",
    "        return self\n",
    "\n",
    "    def transform(self, X):\n",
    "        X_encoded = X.copy()\n",
    "        # Usar um valor padrão para categorias desconhecidas\n",
    "        X_encoded[self.column] = X_encoded[self.column].apply(lambda x: x if x in self.categories_ else self.default_label)\n",
    "        X_encoded[self.column] = self.le.transform(X_encoded[self.column])\n",
    "        return X_encoded"
   ]
  },
  {
   "cell_type": "markdown",
   "metadata": {},
   "source": [
    "# Data Load"
   ]
  },
  {
   "cell_type": "code",
   "execution_count": 84,
   "metadata": {},
   "outputs": [
    {
     "name": "stdout",
     "output_type": "stream",
     "text": [
      "c:\\Users\\thale\\Documents\\Projetos_DS\\projeto_aluno_mlflow\\delivery_fast\\notebooks\\../src\\data\n",
      "2023-12-26 14:47:21 [info     ] Iniciando o carregamento\n",
      "c:\\Users\\thale\\Documents\\Projetos_DS\\projeto_aluno_mlflow\\delivery_fast\\src\\data\n",
      "c:\\Users\\thale\\Documents\\Projetos_DS\\projeto_aluno_mlflow\\delivery_fast\\data\\raw\\dados.csv\n"
     ]
    }
   ],
   "source": [
    "dl = DataLoad()\n",
    "df = dl.load_data('dados_train')"
   ]
  },
  {
   "cell_type": "markdown",
   "metadata": {},
   "source": [
    "# 1.0 Descrição dos Dados"
   ]
  },
  {
   "cell_type": "code",
   "execution_count": 85,
   "metadata": {},
   "outputs": [],
   "source": [
    "df1 = df.copy()"
   ]
  },
  {
   "cell_type": "markdown",
   "metadata": {},
   "source": [
    "## 1.1 Dimensão dos Dados"
   ]
  },
  {
   "cell_type": "code",
   "execution_count": 86,
   "metadata": {},
   "outputs": [
    {
     "data": {
      "text/plain": [
       "(197428, 16)"
      ]
     },
     "execution_count": 86,
     "metadata": {},
     "output_type": "execute_result"
    }
   ],
   "source": [
    "df1.shape"
   ]
  },
  {
   "cell_type": "markdown",
   "metadata": {},
   "source": [
    "## 1.2 Tipo dos Dados"
   ]
  },
  {
   "cell_type": "code",
   "execution_count": 87,
   "metadata": {},
   "outputs": [
    {
     "data": {
      "text/plain": [
       "market_id                                       float64\n",
       "created_at                                       object\n",
       "actual_delivery_time                             object\n",
       "store_id                                          int64\n",
       "store_primary_category                           object\n",
       "order_protocol                                  float64\n",
       "total_items                                       int64\n",
       "subtotal                                          int64\n",
       "num_distinct_items                                int64\n",
       "min_item_price                                    int64\n",
       "max_item_price                                    int64\n",
       "total_onshift_dashers                           float64\n",
       "total_busy_dashers                              float64\n",
       "total_outstanding_orders                        float64\n",
       "estimated_order_place_duration                    int64\n",
       "estimated_store_to_consumer_driving_duration    float64\n",
       "dtype: object"
      ]
     },
     "execution_count": 87,
     "metadata": {},
     "output_type": "execute_result"
    }
   ],
   "source": [
    "df1.dtypes"
   ]
  },
  {
   "cell_type": "markdown",
   "metadata": {},
   "source": [
    "## 1.3 Check Na"
   ]
  },
  {
   "cell_type": "code",
   "execution_count": 88,
   "metadata": {},
   "outputs": [
    {
     "data": {
      "text/plain": [
       "market_id                                         987\n",
       "created_at                                          0\n",
       "actual_delivery_time                                7\n",
       "store_id                                            0\n",
       "store_primary_category                           4760\n",
       "order_protocol                                    995\n",
       "total_items                                         0\n",
       "subtotal                                            0\n",
       "num_distinct_items                                  0\n",
       "min_item_price                                      0\n",
       "max_item_price                                      0\n",
       "total_onshift_dashers                           16262\n",
       "total_busy_dashers                              16262\n",
       "total_outstanding_orders                        16262\n",
       "estimated_order_place_duration                      0\n",
       "estimated_store_to_consumer_driving_duration      526\n",
       "dtype: int64"
      ]
     },
     "execution_count": 88,
     "metadata": {},
     "output_type": "execute_result"
    }
   ],
   "source": [
    "df1.isna().sum()"
   ]
  },
  {
   "cell_type": "markdown",
   "metadata": {},
   "source": [
    "# 2.0 Fill Na"
   ]
  },
  {
   "cell_type": "code",
   "execution_count": 89,
   "metadata": {},
   "outputs": [],
   "source": [
    "df2 = df1.copy()"
   ]
  },
  {
   "cell_type": "code",
   "execution_count": 90,
   "metadata": {},
   "outputs": [],
   "source": [
    "df2 = df2.dropna()"
   ]
  },
  {
   "cell_type": "code",
   "execution_count": 91,
   "metadata": {},
   "outputs": [],
   "source": [
    "# # total_onshift_dashers\n",
    "# df2['total_onshift_dashers'] = df2['total_onshift_dashers'].apply(lambda x: 0 if math.isnan(x) else x)\n",
    "\n",
    "# # total_busy_dashers\n",
    "# df2['total_busy_dashers'] = df2['total_busy_dashers'].apply(lambda x: 0 if math.isnan(x) else x)\n",
    "\n",
    "# # total_outstanding_orders\n",
    "# df2['total_outstanding_orders'] = df2['total_outstanding_orders'].apply(lambda x: 0 if math.isnan(x) else x)"
   ]
  },
  {
   "cell_type": "code",
   "execution_count": 92,
   "metadata": {},
   "outputs": [],
   "source": [
    "# df2[['store_id','store_primary_category']].groupby('store_id').count().reset_index().sort_values('store_primary_category', ascending=False)"
   ]
  },
  {
   "cell_type": "code",
   "execution_count": 93,
   "metadata": {},
   "outputs": [],
   "source": [
    "# df2.loc[df2['store_id'] == 6865]['store_primary_category'].value_counts()"
   ]
  },
  {
   "cell_type": "markdown",
   "metadata": {},
   "source": [
    "# 3.0 Change Data Type"
   ]
  },
  {
   "cell_type": "code",
   "execution_count": 94,
   "metadata": {},
   "outputs": [],
   "source": [
    "df3 = df2.copy()"
   ]
  },
  {
   "cell_type": "code",
   "execution_count": 95,
   "metadata": {},
   "outputs": [
    {
     "data": {
      "text/plain": [
       "market_id                                       float64\n",
       "created_at                                       object\n",
       "actual_delivery_time                             object\n",
       "store_id                                          int64\n",
       "store_primary_category                           object\n",
       "order_protocol                                  float64\n",
       "total_items                                       int64\n",
       "subtotal                                          int64\n",
       "num_distinct_items                                int64\n",
       "min_item_price                                    int64\n",
       "max_item_price                                    int64\n",
       "total_onshift_dashers                           float64\n",
       "total_busy_dashers                              float64\n",
       "total_outstanding_orders                        float64\n",
       "estimated_order_place_duration                    int64\n",
       "estimated_store_to_consumer_driving_duration    float64\n",
       "dtype: object"
      ]
     },
     "execution_count": 95,
     "metadata": {},
     "output_type": "execute_result"
    }
   ],
   "source": [
    "df3.dtypes"
   ]
  },
  {
   "cell_type": "code",
   "execution_count": 96,
   "metadata": {},
   "outputs": [],
   "source": [
    "df3['created_at'] = pd.to_datetime(df3['created_at'])\n",
    "\n",
    "df3['actual_delivery_time'] = pd.to_datetime(df3['actual_delivery_time'])"
   ]
  },
  {
   "cell_type": "code",
   "execution_count": 97,
   "metadata": {},
   "outputs": [
    {
     "data": {
      "text/html": [
       "<div>\n",
       "<style scoped>\n",
       "    .dataframe tbody tr th:only-of-type {\n",
       "        vertical-align: middle;\n",
       "    }\n",
       "\n",
       "    .dataframe tbody tr th {\n",
       "        vertical-align: top;\n",
       "    }\n",
       "\n",
       "    .dataframe thead th {\n",
       "        text-align: right;\n",
       "    }\n",
       "</style>\n",
       "<table border=\"1\" class=\"dataframe\">\n",
       "  <thead>\n",
       "    <tr style=\"text-align: right;\">\n",
       "      <th></th>\n",
       "      <th>market_id</th>\n",
       "      <th>created_at</th>\n",
       "      <th>actual_delivery_time</th>\n",
       "      <th>store_id</th>\n",
       "      <th>store_primary_category</th>\n",
       "      <th>order_protocol</th>\n",
       "      <th>total_items</th>\n",
       "      <th>subtotal</th>\n",
       "      <th>num_distinct_items</th>\n",
       "      <th>min_item_price</th>\n",
       "      <th>max_item_price</th>\n",
       "      <th>total_onshift_dashers</th>\n",
       "      <th>total_busy_dashers</th>\n",
       "      <th>total_outstanding_orders</th>\n",
       "      <th>estimated_order_place_duration</th>\n",
       "      <th>estimated_store_to_consumer_driving_duration</th>\n",
       "    </tr>\n",
       "  </thead>\n",
       "  <tbody>\n",
       "    <tr>\n",
       "      <th>0</th>\n",
       "      <td>1.0000</td>\n",
       "      <td>2015-02-06 22:24:17</td>\n",
       "      <td>2015-02-06 23:27:16</td>\n",
       "      <td>1845</td>\n",
       "      <td>american</td>\n",
       "      <td>1.0000</td>\n",
       "      <td>4</td>\n",
       "      <td>3441</td>\n",
       "      <td>4</td>\n",
       "      <td>557</td>\n",
       "      <td>1239</td>\n",
       "      <td>33.0000</td>\n",
       "      <td>14.0000</td>\n",
       "      <td>21.0000</td>\n",
       "      <td>446</td>\n",
       "      <td>861.0000</td>\n",
       "    </tr>\n",
       "    <tr>\n",
       "      <th>1</th>\n",
       "      <td>2.0000</td>\n",
       "      <td>2015-02-10 21:49:25</td>\n",
       "      <td>2015-02-10 22:56:29</td>\n",
       "      <td>5477</td>\n",
       "      <td>mexican</td>\n",
       "      <td>2.0000</td>\n",
       "      <td>1</td>\n",
       "      <td>1900</td>\n",
       "      <td>1</td>\n",
       "      <td>1400</td>\n",
       "      <td>1400</td>\n",
       "      <td>1.0000</td>\n",
       "      <td>2.0000</td>\n",
       "      <td>2.0000</td>\n",
       "      <td>446</td>\n",
       "      <td>690.0000</td>\n",
       "    </tr>\n",
       "    <tr>\n",
       "      <th>8</th>\n",
       "      <td>2.0000</td>\n",
       "      <td>2015-02-16 00:11:35</td>\n",
       "      <td>2015-02-16 00:38:01</td>\n",
       "      <td>5477</td>\n",
       "      <td>indian</td>\n",
       "      <td>3.0000</td>\n",
       "      <td>4</td>\n",
       "      <td>4771</td>\n",
       "      <td>3</td>\n",
       "      <td>820</td>\n",
       "      <td>1604</td>\n",
       "      <td>8.0000</td>\n",
       "      <td>6.0000</td>\n",
       "      <td>18.0000</td>\n",
       "      <td>446</td>\n",
       "      <td>289.0000</td>\n",
       "    </tr>\n",
       "    <tr>\n",
       "      <th>14</th>\n",
       "      <td>1.0000</td>\n",
       "      <td>2015-02-12 03:36:46</td>\n",
       "      <td>2015-02-12 04:14:39</td>\n",
       "      <td>2841</td>\n",
       "      <td>italian</td>\n",
       "      <td>1.0000</td>\n",
       "      <td>1</td>\n",
       "      <td>1525</td>\n",
       "      <td>1</td>\n",
       "      <td>1525</td>\n",
       "      <td>1525</td>\n",
       "      <td>5.0000</td>\n",
       "      <td>6.0000</td>\n",
       "      <td>8.0000</td>\n",
       "      <td>446</td>\n",
       "      <td>795.0000</td>\n",
       "    </tr>\n",
       "    <tr>\n",
       "      <th>15</th>\n",
       "      <td>1.0000</td>\n",
       "      <td>2015-01-27 02:12:36</td>\n",
       "      <td>2015-01-27 03:02:24</td>\n",
       "      <td>2841</td>\n",
       "      <td>italian</td>\n",
       "      <td>1.0000</td>\n",
       "      <td>2</td>\n",
       "      <td>3620</td>\n",
       "      <td>2</td>\n",
       "      <td>1425</td>\n",
       "      <td>2195</td>\n",
       "      <td>5.0000</td>\n",
       "      <td>5.0000</td>\n",
       "      <td>7.0000</td>\n",
       "      <td>446</td>\n",
       "      <td>205.0000</td>\n",
       "    </tr>\n",
       "  </tbody>\n",
       "</table>\n",
       "</div>"
      ],
      "text/plain": [
       "    market_id          created_at actual_delivery_time  store_id  \\\n",
       "0      1.0000 2015-02-06 22:24:17  2015-02-06 23:27:16      1845   \n",
       "1      2.0000 2015-02-10 21:49:25  2015-02-10 22:56:29      5477   \n",
       "8      2.0000 2015-02-16 00:11:35  2015-02-16 00:38:01      5477   \n",
       "14     1.0000 2015-02-12 03:36:46  2015-02-12 04:14:39      2841   \n",
       "15     1.0000 2015-01-27 02:12:36  2015-01-27 03:02:24      2841   \n",
       "\n",
       "   store_primary_category  order_protocol  total_items  subtotal  \\\n",
       "0                american          1.0000            4      3441   \n",
       "1                 mexican          2.0000            1      1900   \n",
       "8                  indian          3.0000            4      4771   \n",
       "14                italian          1.0000            1      1525   \n",
       "15                italian          1.0000            2      3620   \n",
       "\n",
       "    num_distinct_items  min_item_price  max_item_price  total_onshift_dashers  \\\n",
       "0                    4             557            1239                33.0000   \n",
       "1                    1            1400            1400                 1.0000   \n",
       "8                    3             820            1604                 8.0000   \n",
       "14                   1            1525            1525                 5.0000   \n",
       "15                   2            1425            2195                 5.0000   \n",
       "\n",
       "    total_busy_dashers  total_outstanding_orders  \\\n",
       "0              14.0000                   21.0000   \n",
       "1               2.0000                    2.0000   \n",
       "8               6.0000                   18.0000   \n",
       "14              6.0000                    8.0000   \n",
       "15              5.0000                    7.0000   \n",
       "\n",
       "    estimated_order_place_duration  \\\n",
       "0                              446   \n",
       "1                              446   \n",
       "8                              446   \n",
       "14                             446   \n",
       "15                             446   \n",
       "\n",
       "    estimated_store_to_consumer_driving_duration  \n",
       "0                                       861.0000  \n",
       "1                                       690.0000  \n",
       "8                                       289.0000  \n",
       "14                                      795.0000  \n",
       "15                                      205.0000  "
      ]
     },
     "execution_count": 97,
     "metadata": {},
     "output_type": "execute_result"
    }
   ],
   "source": [
    "df3.head()"
   ]
  },
  {
   "cell_type": "markdown",
   "metadata": {},
   "source": [
    "# 4.0 Feature Engineering"
   ]
  },
  {
   "cell_type": "code",
   "execution_count": 98,
   "metadata": {},
   "outputs": [],
   "source": [
    "df4 = df3.copy()"
   ]
  },
  {
   "cell_type": "code",
   "execution_count": 99,
   "metadata": {},
   "outputs": [],
   "source": [
    "df4['target'] = (df4['actual_delivery_time'] - df4['created_at']).dt.total_seconds()"
   ]
  },
  {
   "cell_type": "markdown",
   "metadata": {},
   "source": [
    "# 5.0 Data Preparation"
   ]
  },
  {
   "cell_type": "code",
   "execution_count": 100,
   "metadata": {},
   "outputs": [],
   "source": [
    "df5 = df4.copy()\n",
    "df5 = df5[load_config_file().get('columns_to_use')]"
   ]
  },
  {
   "cell_type": "code",
   "execution_count": 101,
   "metadata": {},
   "outputs": [],
   "source": [
    "dt = DataTransformation(df5)"
   ]
  },
  {
   "cell_type": "code",
   "execution_count": 102,
   "metadata": {},
   "outputs": [],
   "source": [
    "X_train, X_valid, y_train, y_valid = dt.train_test_split()"
   ]
  },
  {
   "cell_type": "markdown",
   "metadata": {},
   "source": [
    "# 6.0 Data Preprocess"
   ]
  },
  {
   "cell_type": "markdown",
   "metadata": {},
   "source": [
    "## 6.1 Encoding"
   ]
  },
  {
   "cell_type": "code",
   "execution_count": 103,
   "metadata": {},
   "outputs": [],
   "source": [
    "# le = LabelEncoder()\n",
    "\n",
    "# all_categories = set(X_train['store_primary_category']).union(set(X_valid['store_primary_category']))\n",
    "# le.fit(list(all_categories))\n",
    "\n",
    "# # Dados de Treino\n",
    "# X_train['store_primary_category'] = le.transform(X_train['store_primary_category'])\n",
    "\n"
   ]
  },
  {
   "cell_type": "code",
   "execution_count": 104,
   "metadata": {},
   "outputs": [],
   "source": [
    "# default_label = 'desconhecido'\n",
    "# X_valid['store_primary_category'] = X_valid['store_primary_category'].replace(to_replace={cat: default_label for cat in all_categories.difference(X_valid['store_primary_category'])})\n",
    "\n",
    "# # Aplicar o LabelEncoder para transformar as categorias\n",
    "# X_valid['store_primary_category'] = le.transform(X_valid['store_primary_category'])"
   ]
  },
  {
   "cell_type": "code",
   "execution_count": 105,
   "metadata": {},
   "outputs": [],
   "source": [
    "# # Criar pipeline\n",
    "# pipeline = Pipeline([\n",
    "#     ('label_encoder', CustomLabelEncoder(column='store_primary_category')),\n",
    "# ])"
   ]
  },
  {
   "cell_type": "code",
   "execution_count": 106,
   "metadata": {},
   "outputs": [],
   "source": [
    "# Criar pipeline\n",
    "pipeline = Pipeline([\n",
    "    ('label_encoder', CustomLabelEncoder(column='store_primary_category')),\n",
    "    ('scaler', MinMaxScaler())\n",
    "])"
   ]
  },
  {
   "cell_type": "markdown",
   "metadata": {},
   "source": [
    "# 7.0 Machine Learning"
   ]
  },
  {
   "cell_type": "code",
   "execution_count": 107,
   "metadata": {},
   "outputs": [
    {
     "data": {
      "text/plain": [
       "<Experiment: artifact_location='mlflow-artifacts:/1', creation_time=1703597813329, experiment_id='1', last_update_time=1703597813329, lifecycle_stage='active', name='predict_delivery_time', tags={}>"
      ]
     },
     "execution_count": 107,
     "metadata": {},
     "output_type": "execute_result"
    }
   ],
   "source": [
    "import mlflow\n",
    "from mlflow.tracking import MlflowClient\n",
    "\n",
    "mlflow.set_tracking_uri('http://127.0.0.1:5000')\n",
    "mlflow.set_experiment('predict_delivery_time')"
   ]
  },
  {
   "cell_type": "code",
   "execution_count": 109,
   "metadata": {},
   "outputs": [
    {
     "name": "stdout",
     "output_type": "stream",
     "text": [
      "2023-12-26 14:47:59 [info     ] Iniciando o processamento\n"
     ]
    },
    {
     "name": "stdout",
     "output_type": "stream",
     "text": [
      "2023-12-26 14:47:59 [info     ] Iniciando a Transformação\n",
      "2023-12-26 14:48:00 [info     ] Iniciando a Transformação\n",
      "LinearRegression\n"
     ]
    },
    {
     "name": "stderr",
     "output_type": "stream",
     "text": [
      "c:\\Users\\thale\\AppData\\Local\\Programs\\Python\\Python311\\Lib\\site-packages\\_distutils_hack\\__init__.py:18: UserWarning: Distutils was imported before Setuptools, but importing Setuptools also replaces the `distutils` module in `sys.modules`. This may lead to undesirable behaviors or errors. To avoid these issues, avoid using distutils directly, ensure that setuptools is installed in the traditional way (e.g. not an editable install), and/or make sure that setuptools is always imported before distutils.\n",
      "  warnings.warn(\n",
      "c:\\Users\\thale\\AppData\\Local\\Programs\\Python\\Python311\\Lib\\site-packages\\_distutils_hack\\__init__.py:33: UserWarning: Setuptools is replacing distutils.\n",
      "  warnings.warn(\"Setuptools is replacing distutils.\")\n"
     ]
    },
    {
     "name": "stdout",
     "output_type": "stream",
     "text": [
      "Ridge\n"
     ]
    },
    {
     "name": "stderr",
     "output_type": "stream",
     "text": [
      "c:\\Users\\thale\\AppData\\Local\\Programs\\Python\\Python311\\Lib\\site-packages\\_distutils_hack\\__init__.py:18: UserWarning: Distutils was imported before Setuptools, but importing Setuptools also replaces the `distutils` module in `sys.modules`. This may lead to undesirable behaviors or errors. To avoid these issues, avoid using distutils directly, ensure that setuptools is installed in the traditional way (e.g. not an editable install), and/or make sure that setuptools is always imported before distutils.\n",
      "  warnings.warn(\n",
      "c:\\Users\\thale\\AppData\\Local\\Programs\\Python\\Python311\\Lib\\site-packages\\_distutils_hack\\__init__.py:33: UserWarning: Setuptools is replacing distutils.\n",
      "  warnings.warn(\"Setuptools is replacing distutils.\")\n"
     ]
    },
    {
     "name": "stdout",
     "output_type": "stream",
     "text": [
      "Lasso\n"
     ]
    },
    {
     "name": "stderr",
     "output_type": "stream",
     "text": [
      "c:\\Users\\thale\\AppData\\Local\\Programs\\Python\\Python311\\Lib\\site-packages\\_distutils_hack\\__init__.py:18: UserWarning: Distutils was imported before Setuptools, but importing Setuptools also replaces the `distutils` module in `sys.modules`. This may lead to undesirable behaviors or errors. To avoid these issues, avoid using distutils directly, ensure that setuptools is installed in the traditional way (e.g. not an editable install), and/or make sure that setuptools is always imported before distutils.\n",
      "  warnings.warn(\n",
      "c:\\Users\\thale\\AppData\\Local\\Programs\\Python\\Python311\\Lib\\site-packages\\_distutils_hack\\__init__.py:33: UserWarning: Setuptools is replacing distutils.\n",
      "  warnings.warn(\"Setuptools is replacing distutils.\")\n"
     ]
    },
    {
     "name": "stdout",
     "output_type": "stream",
     "text": [
      "KNeighborsRegressor\n"
     ]
    },
    {
     "name": "stderr",
     "output_type": "stream",
     "text": [
      "c:\\Users\\thale\\AppData\\Local\\Programs\\Python\\Python311\\Lib\\site-packages\\_distutils_hack\\__init__.py:18: UserWarning: Distutils was imported before Setuptools, but importing Setuptools also replaces the `distutils` module in `sys.modules`. This may lead to undesirable behaviors or errors. To avoid these issues, avoid using distutils directly, ensure that setuptools is installed in the traditional way (e.g. not an editable install), and/or make sure that setuptools is always imported before distutils.\n",
      "  warnings.warn(\n",
      "c:\\Users\\thale\\AppData\\Local\\Programs\\Python\\Python311\\Lib\\site-packages\\_distutils_hack\\__init__.py:33: UserWarning: Setuptools is replacing distutils.\n",
      "  warnings.warn(\"Setuptools is replacing distutils.\")\n"
     ]
    },
    {
     "name": "stdout",
     "output_type": "stream",
     "text": [
      "DecisionTreeRegressor\n"
     ]
    },
    {
     "name": "stderr",
     "output_type": "stream",
     "text": [
      "c:\\Users\\thale\\AppData\\Local\\Programs\\Python\\Python311\\Lib\\site-packages\\_distutils_hack\\__init__.py:18: UserWarning: Distutils was imported before Setuptools, but importing Setuptools also replaces the `distutils` module in `sys.modules`. This may lead to undesirable behaviors or errors. To avoid these issues, avoid using distutils directly, ensure that setuptools is installed in the traditional way (e.g. not an editable install), and/or make sure that setuptools is always imported before distutils.\n",
      "  warnings.warn(\n",
      "c:\\Users\\thale\\AppData\\Local\\Programs\\Python\\Python311\\Lib\\site-packages\\_distutils_hack\\__init__.py:33: UserWarning: Setuptools is replacing distutils.\n",
      "  warnings.warn(\"Setuptools is replacing distutils.\")\n"
     ]
    },
    {
     "name": "stdout",
     "output_type": "stream",
     "text": [
      "GradientBoostingRegressor\n"
     ]
    },
    {
     "name": "stderr",
     "output_type": "stream",
     "text": [
      "c:\\Users\\thale\\AppData\\Local\\Programs\\Python\\Python311\\Lib\\site-packages\\_distutils_hack\\__init__.py:18: UserWarning: Distutils was imported before Setuptools, but importing Setuptools also replaces the `distutils` module in `sys.modules`. This may lead to undesirable behaviors or errors. To avoid these issues, avoid using distutils directly, ensure that setuptools is installed in the traditional way (e.g. not an editable install), and/or make sure that setuptools is always imported before distutils.\n",
      "  warnings.warn(\n",
      "c:\\Users\\thale\\AppData\\Local\\Programs\\Python\\Python311\\Lib\\site-packages\\_distutils_hack\\__init__.py:33: UserWarning: Setuptools is replacing distutils.\n",
      "  warnings.warn(\"Setuptools is replacing distutils.\")\n"
     ]
    }
   ],
   "source": [
    "models = [LinearRegression(), Ridge(), Lasso(), KNeighborsRegressor(), DecisionTreeRegressor(), GradientBoostingRegressor()]\n",
    "\n",
    "\n",
    "with mlflow.start_run(run_name='min_max_scaler'):\n",
    "\n",
    "    preprocessador = DataPreprocess(pipeline)\n",
    "    preprocessador.train(X_train)\n",
    "\n",
    "    X_train_processed = pd.DataFrame(preprocessador.transform(X_train))\n",
    "    X_valid_processed = pd.DataFrame(preprocessador.transform(X_valid))\n",
    "\n",
    "    X_train_processed.columns = X_train.columns\n",
    "    X_valid_processed.columns = X_valid.columns\n",
    "\n",
    "    joblib.dump(preprocessador, '../models/preprocess.joblib')\n",
    "\n",
    "    # logar um artefato (preprocessador)\n",
    "    mlflow.log_artifact('../models/preprocess.joblib')\n",
    "\n",
    "    # logar os parametros do preprocessador\n",
    "    mlflow.log_params(params={'encoder': pipeline['label_encoder'],\n",
    "                            'scaler': pipeline['scaler']})\n",
    "\n",
    "    for model in models:\n",
    "        model_name = model.__class__.__name__\n",
    "        print(model_name)\n",
    "        with mlflow.start_run(nested=True, run_name = model_name):\n",
    "            mlflow.set_tag('model_name', model_name)\n",
    "\n",
    "            mlflow.log_param('model_name', model_name)\n",
    "            md = model\n",
    "\n",
    "            # model train\n",
    "            md.fit(X_train_processed, y_train)\n",
    "\n",
    "            # model predict\n",
    "            y_pred = md.predict(X_valid_processed)\n",
    "\n",
    "            params = md.get_params()\n",
    "\n",
    "            # log nos parametros do modelo\n",
    "            for i in params:\n",
    "                mlflow.log_param(i, params[i])\n",
    "            \n",
    "            # Calculando as métricas de performance \n",
    "            df_result_lr = regression_metrics(y_valid, y_pred)\n",
    "\n",
    "            # log nas métricas que vem de df_result_lr\n",
    "            for index, row in df_result_lr.iterrows():\n",
    "                mlflow.log_metric(row['Métrica'], row['Valor'])\n",
    "            \n",
    "            mlflow.sklearn.log_model(md, model_name)"
   ]
  },
  {
   "cell_type": "code",
   "execution_count": null,
   "metadata": {},
   "outputs": [],
   "source": []
  },
  {
   "cell_type": "code",
   "execution_count": null,
   "metadata": {},
   "outputs": [],
   "source": []
  }
 ],
 "metadata": {
  "kernelspec": {
   "display_name": "Python 3",
   "language": "python",
   "name": "python3"
  },
  "language_info": {
   "codemirror_mode": {
    "name": "ipython",
    "version": 3
   },
   "file_extension": ".py",
   "mimetype": "text/x-python",
   "name": "python",
   "nbconvert_exporter": "python",
   "pygments_lexer": "ipython3",
   "version": "3.11.4"
  }
 },
 "nbformat": 4,
 "nbformat_minor": 2
}
